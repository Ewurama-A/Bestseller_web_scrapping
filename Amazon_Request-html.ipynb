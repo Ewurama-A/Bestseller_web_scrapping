{
 "cells": [
  {
   "cell_type": "markdown",
   "id": "8dd26abb",
   "metadata": {
    "tags": []
   },
   "source": [
    "## Using request-html and Pandas to create and process a dataframe\n",
    "\n",
    "#### Using Request-html to parse amazon.com.\n",
    "\n",
    "The following shows one way request-html can be used to parse through a webpage and obtain the needed data:\n",
    "\n",
    "The site being parsed is amazon.com, an e-commerce site commonly used around the world. The product names, the prices, the ratings and other valuable information would be obtained using a combination of css selectors and Xpath.\n",
    "\n",
    "Afterwards, the data will be put in a Pandas dataframe and processed. This dataframe will be saved as a .csv file for further evaluation in the future."
   ]
  },
  {
   "cell_type": "code",
   "execution_count": 2,
   "id": "c7515c00-db15-4714-8ff9-72fb9f3150b7",
   "metadata": {},
   "outputs": [],
   "source": [
    "# Using requests-html's Async session \n",
    "\n",
    "from requests_html import AsyncHTMLSession\n",
    "\n",
    "# Creating headers to emulate client-servers\n",
    "\n",
    "headers = {\"User-Agent\":\"Mozilla/5.0 (Windows NT 10.0; Win64; x64; rv:66.0) Gecko/20100101 Firefox/66.0\", \"Accept-Encoding\":\"gzip, deflate\", \"Accept\":\"text/html,application/xhtml+xml,application/xml;q=0.9,*/*;q=0.8\", \"DNT\":\"1\",\"Connection\":\"close\", \"Upgrade-Insecure-Requests\":\"1\"}\n",
    "\n",
    "asession = AsyncHTMLSession()\n",
    "\n"
   ]
  },
  {
   "cell_type": "code",
   "execution_count": 23,
   "id": "81c4f5bd-8e79-47cf-a90d-9f266f505a43",
   "metadata": {},
   "outputs": [],
   "source": [
    "# The url from amazon and setting page variable\n",
    "\n",
    "page = 1\n",
    "\n",
    "url = f\"https://www.amazon.com/Best-Sellers-Electronics-Headphones-Earbuds-Accessories/zgbs/electronics/24046923011/ref=zg_bs_pg_1?_encoding=UTF8&pg={page}\""
   ]
  },
  {
   "cell_type": "code",
   "execution_count": 24,
   "id": "1158ad87-3b7d-4507-8c31-b9aeba6d720b",
   "metadata": {},
   "outputs": [],
   "source": [
    "# Request to get url using headers and Async\n",
    "\n",
    "s = await asession.get(url, headers = headers)"
   ]
  },
  {
   "cell_type": "code",
   "execution_count": 5,
   "id": "e96b8b1c-0f54-4f91-8efc-295dfa075c39",
   "metadata": {},
   "outputs": [
    {
     "data": {
      "text/plain": [
       "200"
      ]
     },
     "execution_count": 5,
     "metadata": {},
     "output_type": "execute_result"
    }
   ],
   "source": [
    "#Checking status code\n",
    "\n",
    "s.status_code"
   ]
  },
  {
   "cell_type": "code",
   "execution_count": 6,
   "id": "d53f1817-b3b4-4a1a-93e1-0c8179aa42cb",
   "metadata": {},
   "outputs": [
    {
     "name": "stdout",
     "output_type": "stream",
     "text": [
      "['Apple AirPods (2nd Generation) Wireless Earbuds with Lightning Charging Case Included', 'Apple EarPods Headphones with Lightning Connector', 'Apple AirPods Pro (2nd Generation) Wireless Earbuds, Up to 2X More Active Noise Cancelling, Adaptive Transparency, Personalized Spatial Audio, MagSafe Charging Case, Bluetooth Headphones for iPhone', 'Apple Lightning to 3.5 mm Headphone Jack Adapter', 'TOZO A1 Mini Wireless Earbuds Bluetooth 5.3 in Ear Light-Weight Headphones Built-in Microphone, IPX5 Waterproof, Immersive Premium Sound Long Distance Connection Headset with Charging Case, Black', 'Apple EarPods Headphones with 3.5mm Plug', 'TOZO T6 True Wireless Earbuds Bluetooth 5.3 Headphones Touch Control with Wireless Charging Case IPX8 Waterproof Stereo Earphones in-Ear Built-in Mic Headset Premium Deep Bass Black (2022 Upgraded)', 'Sony ZX Series Wired On-Ear Headphones, Black MDR-ZX110', 'TOZO T10 Bluetooth 5.3 Wireless Earbuds with Wireless Charging Case IPX8 Waterproof Stereo Headphones in Ear Built in Mic Headset Premium Sound with Deep Bass for Sport Black (2022 Upgraded)', 'JBL VIBE 100 TWS - True Wireless In-Ear Headphones - Black', 'Soundcore Anker Life Q20 Hybrid Active Noise Cancelling Headphones, Wireless Over Ear Bluetooth Headphones, 40H Playtime, Hi-Res Audio, Deep Bass, Memory Foam Ear Cups, for Travel, Home Office', '[3 Pairs] Replacement Ear Tips for Airpods Pro and Airpods Pro 2nd Generation with Noise Reduction Hole, Silicone Ear Tips for Airpods Pro with Portable Storage Box and Fit in The Charging Case(S/M/L)', 'JBL Tune 130NC TWS True Wireless In-Ear Noise Cancelling Headphones - Black', 'Beats Solo3 Wireless On-Ear Headphones - Apple W1 Headphone Chip, Class 1 Bluetooth, 40 Hours of Listening Time, Built-in Microphone - Black (Latest Model)', 'TAGRY Bluetooth Headphones True Wireless Earbuds 60H Playback LED Power Display Earphones with Wireless Charging Case IPX5 Waterproof in-Ear Earbuds with Mic for TV Smart Phone Computer Laptop Sports', 'Amazon Basics 3.5 mm Male to Male Stereo Audio Cable, 8 Feet, 2.4 Meters, Speaker', 'Perytong Sleep Headphones Wireless, Bluetooth Sports Headband Headphones with Ultra-Thin HD Stereo Speakers Perfect for Sleeping,Workout,Jogging,Yoga,Insomnia, Air Travel, Meditation, Grey', 'TOZO A3 Wireless\\u2002Earbuds Bluetooth 5.3 Half in-Ear Lightweight Headsets with Digital Call Noise Reduction,Charging Case with Reset Button Hall Detection,Premium Sound with Long Endurance,White', 'DOBOPO Wireless Earbuds Bluetooth 5.3 Headphones 50Hrs Playtime Sports Earphones Over-Ear Earhooks Headset with LED Display, ENC Mic, IP7 Waterproof for Workout, Running, Gym (2023 New', 'Amazon Basics In-Ear Wired Headphones, Earbuds with Microphone, Black', 'TAGRY Bluetooth Headphones True Wireless Earbuds 60H Playback LED Power Display Earphones with Wireless Charging Case IPX5 Waterproof in-Ear Earbuds with Mic for TV Smart Phone Computer Laptop Sports', 'GOLREX Bluetooth Headphones Wireless Earbuds 36Hrs Playtime Wireless Charging Case Digital LED Display Over-Ear Earphones with Earhook Waterproof Headset with Mic for Sport Running Workout Black', 'JLab Go Air Pop True Wireless Bluetooth Earbuds + Charging Case | Slate | Dual Connect | IPX4 Sweat Resistance | Bluetooth 5.1 Connection | 3 EQ Sound Settings Signature, Balanced, Bass Boost', 'Lightning to 3.5 mm Headphone Jack Adapter, [Apple MFi Certified] 3 Pack iPhone 3.5mm Headphones/Earphones Jack Aux Audio Dongle Adapter Compatible for iPhone 14 13 12 11 XS XR X 8 7, Support All iOS', 'Apple USB-C to 3.5 mm Headphone Jack Adapter', 'Wireless Earbuds Bluetooth Headphones 60H Playtime Ear Buds with LED Power Display Charging Case Earphones in-Ear Earbud with Microphone for Android Cell Phone Gaming Computer Laptop Sport Black', 'Wireless Earbuds Bluetooth Headphones 130Hrs Playtime with 2500mAh Wireless Charging Case LED Diaplay Hi-Fi Waterproof Over Ear Earphones for Sports Running Workout Gaming', 'Wireless Earbuds, Bluetooth 5.3 Earbuds with 43H Playtime, IPX6 Waterproof Stereo Sound True Wireless Earbuds with Microphone, Bluetooth Headphones for Sport and Working', 'sephia SP3060 Earbuds Wired in Ear Headphones with Tangle-Free Cord Noise Isolating Earphones Deep Bass Case Ear Buds 3.5 mm Jack Plug', 'TOZO NC2 Hybrid Active Noise Cancelling Wireless Earbuds, in-Ear Detection Headphones, IPX6 Waterproof Bluetooth 5.2 Stereo Earphones, Immersive Sound Premium Deep Bass Headset, Black', 'Apple AirPods (2nd Generation) Wireless Earbuds with Lightning Charging Case Included', 'Apple EarPods Headphones with Lightning Connector', 'Apple AirPods Pro (2nd Generation) Wireless Earbuds, Up to 2X More Active Noise Cancelling, Adaptive Transparency, Personalized Spatial Audio, MagSafe Charging Case, Bluetooth Headphones for iPhone', 'Apple Lightning to 3.5 mm Headphone Jack Adapter', 'TOZO A1 Mini Wireless Earbuds Bluetooth 5.3 in Ear Light-Weight Headphones Built-in Microphone, IPX5 Waterproof, Immersive Premium Sound Long Distance Connection Headset with Charging Case, Black', 'Apple EarPods Headphones with 3.5mm Plug', 'TOZO T6 True Wireless Earbuds Bluetooth 5.3 Headphones Touch Control with Wireless Charging Case IPX8 Waterproof Stereo Earphones in-Ear Built-in Mic Headset Premium Deep Bass Black (2022 Upgraded)', 'Sony ZX Series Wired On-Ear Headphones, Black MDR-ZX110', 'TOZO T10 Bluetooth 5.3 Wireless Earbuds with Wireless Charging Case IPX8 Waterproof Stereo Headphones in Ear Built in Mic Headset Premium Sound with Deep Bass for Sport Black (2022 Upgraded)', 'JBL VIBE 100 TWS - True Wireless In-Ear Headphones - Black', 'Soundcore Anker Life Q20 Hybrid Active Noise Cancelling Headphones, Wireless Over Ear Bluetooth Headphones, 40H Playtime, Hi-Res Audio, Deep Bass, Memory Foam Ear Cups, for Travel, Home Office', '[3 Pairs] Replacement Ear Tips for Airpods Pro and Airpods Pro 2nd Generation with Noise Reduction Hole, Silicone Ear Tips for Airpods Pro with Portable Storage Box and Fit in The Charging Case(S/M/L)', 'JBL Tune 130NC TWS True Wireless In-Ear Noise Cancelling Headphones - Black', 'Beats Solo3 Wireless On-Ear Headphones - Apple W1 Headphone Chip, Class 1 Bluetooth, 40 Hours of Listening Time, Built-in Microphone - Black (Latest Model)', 'TAGRY Bluetooth Headphones True Wireless Earbuds 60H Playback LED Power Display Earphones with Wireless Charging Case IPX5 Waterproof in-Ear Earbuds with Mic for TV Smart Phone Computer Laptop Sports', 'Amazon Basics 3.5 mm Male to Male Stereo Audio Cable, 8 Feet, 2.4 Meters, Speaker', 'Perytong Sleep Headphones Wireless, Bluetooth Sports Headband Headphones with Ultra-Thin HD Stereo Speakers Perfect for Sleeping,Workout,Jogging,Yoga,Insomnia, Air Travel, Meditation, Grey', 'TOZO A3 Wireless\\u2002Earbuds Bluetooth 5.3 Half in-Ear Lightweight Headsets with Digital Call Noise Reduction,Charging Case with Reset Button Hall Detection,Premium Sound with Long Endurance,White', 'DOBOPO Wireless Earbuds Bluetooth 5.3 Headphones 50Hrs Playtime Sports Earphones Over-Ear Earhooks Headset with LED Display, ENC Mic, IP7 Waterproof for Workout, Running, Gym (2023 New', 'Amazon Basics In-Ear Wired Headphones, Earbuds with Microphone, Black', 'TAGRY Bluetooth Headphones True Wireless Earbuds 60H Playback LED Power Display Earphones with Wireless Charging Case IPX5 Waterproof in-Ear Earbuds with Mic for TV Smart Phone Computer Laptop Sports', 'GOLREX Bluetooth Headphones Wireless Earbuds 36Hrs Playtime Wireless Charging Case Digital LED Display Over-Ear Earphones with Earhook Waterproof Headset with Mic for Sport Running Workout Black', 'JLab Go Air Pop True Wireless Bluetooth Earbuds + Charging Case | Slate | Dual Connect | IPX4 Sweat Resistance | Bluetooth 5.1 Connection | 3 EQ Sound Settings Signature, Balanced, Bass Boost', 'Lightning to 3.5 mm Headphone Jack Adapter, [Apple MFi Certified] 3 Pack iPhone 3.5mm Headphones/Earphones Jack Aux Audio Dongle Adapter Compatible for iPhone 14 13 12 11 XS XR X 8 7, Support All iOS', 'Apple USB-C to 3.5 mm Headphone Jack Adapter', 'Wireless Earbuds Bluetooth Headphones 60H Playtime Ear Buds with LED Power Display Charging Case Earphones in-Ear Earbud with Microphone for Android Cell Phone Gaming Computer Laptop Sport Black', 'Wireless Earbuds Bluetooth Headphones 130Hrs Playtime with 2500mAh Wireless Charging Case LED Diaplay Hi-Fi Waterproof Over Ear Earphones for Sports Running Workout Gaming', 'Wireless Earbuds, Bluetooth 5.3 Earbuds with 43H Playtime, IPX6 Waterproof Stereo Sound True Wireless Earbuds with Microphone, Bluetooth Headphones for Sport and Working', 'sephia SP3060 Earbuds Wired in Ear Headphones with Tangle-Free Cord Noise Isolating Earphones Deep Bass Case Ear Buds 3.5 mm Jack Plug', 'TOZO NC2 Hybrid Active Noise Cancelling Wireless Earbuds, in-Ear Detection Headphones, IPX6 Waterproof Bluetooth 5.2 Stereo Earphones, Immersive Sound Premium Deep Bass Headset, Black', 'Apple AirPods (2nd Generation) Wireless Earbuds with Lightning Charging Case Included', 'Apple EarPods Headphones with Lightning Connector', 'Apple AirPods Pro (2nd Generation) Wireless Earbuds, Up to 2X More Active Noise Cancelling, Adaptive Transparency, Personalized Spatial Audio, MagSafe Charging Case, Bluetooth Headphones for iPhone', 'Apple Lightning to 3.5 mm Headphone Jack Adapter', 'TOZO A1 Mini Wireless Earbuds Bluetooth 5.3 in Ear Light-Weight Headphones Built-in Microphone, IPX5 Waterproof, Immersive Premium Sound Long Distance Connection Headset with Charging Case, Black', 'Apple EarPods Headphones with 3.5mm Plug', 'TOZO T6 True Wireless Earbuds Bluetooth 5.3 Headphones Touch Control with Wireless Charging Case IPX8 Waterproof Stereo Earphones in-Ear Built-in Mic Headset Premium Deep Bass Black (2022 Upgraded)', 'Sony ZX Series Wired On-Ear Headphones, Black MDR-ZX110', 'TOZO T10 Bluetooth 5.3 Wireless Earbuds with Wireless Charging Case IPX8 Waterproof Stereo Headphones in Ear Built in Mic Headset Premium Sound with Deep Bass for Sport Black (2022 Upgraded)', 'JBL VIBE 100 TWS - True Wireless In-Ear Headphones - Black', 'Soundcore Anker Life Q20 Hybrid Active Noise Cancelling Headphones, Wireless Over Ear Bluetooth Headphones, 40H Playtime, Hi-Res Audio, Deep Bass, Memory Foam Ear Cups, for Travel, Home Office', '[3 Pairs] Replacement Ear Tips for Airpods Pro and Airpods Pro 2nd Generation with Noise Reduction Hole, Silicone Ear Tips for Airpods Pro with Portable Storage Box and Fit in The Charging Case(S/M/L)', 'JBL Tune 130NC TWS True Wireless In-Ear Noise Cancelling Headphones - Black', 'Beats Solo3 Wireless On-Ear Headphones - Apple W1 Headphone Chip, Class 1 Bluetooth, 40 Hours of Listening Time, Built-in Microphone - Black (Latest Model)', 'TAGRY Bluetooth Headphones True Wireless Earbuds 60H Playback LED Power Display Earphones with Wireless Charging Case IPX5 Waterproof in-Ear Earbuds with Mic for TV Smart Phone Computer Laptop Sports', 'Amazon Basics 3.5 mm Male to Male Stereo Audio Cable, 8 Feet, 2.4 Meters, Speaker', 'Perytong Sleep Headphones Wireless, Bluetooth Sports Headband Headphones with Ultra-Thin HD Stereo Speakers Perfect for Sleeping,Workout,Jogging,Yoga,Insomnia, Air Travel, Meditation, Grey', 'TOZO A3 Wireless\\u2002Earbuds Bluetooth 5.3 Half in-Ear Lightweight Headsets with Digital Call Noise Reduction,Charging Case with Reset Button Hall Detection,Premium Sound with Long Endurance,White', 'DOBOPO Wireless Earbuds Bluetooth 5.3 Headphones 50Hrs Playtime Sports Earphones Over-Ear Earhooks Headset with LED Display, ENC Mic, IP7 Waterproof for Workout, Running, Gym (2023 New', 'Amazon Basics In-Ear Wired Headphones, Earbuds with Microphone, Black', 'TAGRY Bluetooth Headphones True Wireless Earbuds 60H Playback LED Power Display Earphones with Wireless Charging Case IPX5 Waterproof in-Ear Earbuds with Mic for TV Smart Phone Computer Laptop Sports', 'GOLREX Bluetooth Headphones Wireless Earbuds 36Hrs Playtime Wireless Charging Case Digital LED Display Over-Ear Earphones with Earhook Waterproof Headset with Mic for Sport Running Workout Black', 'JLab Go Air Pop True Wireless Bluetooth Earbuds + Charging Case | Slate | Dual Connect | IPX4 Sweat Resistance | Bluetooth 5.1 Connection | 3 EQ Sound Settings Signature, Balanced, Bass Boost', 'Lightning to 3.5 mm Headphone Jack Adapter, [Apple MFi Certified] 3 Pack iPhone 3.5mm Headphones/Earphones Jack Aux Audio Dongle Adapter Compatible for iPhone 14 13 12 11 XS XR X 8 7, Support All iOS', 'Apple USB-C to 3.5 mm Headphone Jack Adapter', 'Wireless Earbuds Bluetooth Headphones 60H Playtime Ear Buds with LED Power Display Charging Case Earphones in-Ear Earbud with Microphone for Android Cell Phone Gaming Computer Laptop Sport Black', 'Wireless Earbuds Bluetooth Headphones 130Hrs Playtime with 2500mAh Wireless Charging Case LED Diaplay Hi-Fi Waterproof Over Ear Earphones for Sports Running Workout Gaming', 'Wireless Earbuds, Bluetooth 5.3 Earbuds with 43H Playtime, IPX6 Waterproof Stereo Sound True Wireless Earbuds with Microphone, Bluetooth Headphones for Sport and Working', 'sephia SP3060 Earbuds Wired in Ear Headphones with Tangle-Free Cord Noise Isolating Earphones Deep Bass Case Ear Buds 3.5 mm Jack Plug', 'TOZO NC2 Hybrid Active Noise Cancelling Wireless Earbuds, in-Ear Detection Headphones, IPX6 Waterproof Bluetooth 5.2 Stereo Earphones, Immersive Sound Premium Deep Bass Headset, Black', 'Apple AirPods (2nd Generation) Wireless Earbuds with Lightning Charging Case Included', 'Apple EarPods Headphones with Lightning Connector', 'Apple AirPods Pro (2nd Generation) Wireless Earbuds, Up to 2X More Active Noise Cancelling, Adaptive Transparency, Personalized Spatial Audio, MagSafe Charging Case, Bluetooth Headphones for iPhone', 'Apple Lightning to 3.5 mm Headphone Jack Adapter', 'TOZO A1 Mini Wireless Earbuds Bluetooth 5.3 in Ear Light-Weight Headphones Built-in Microphone, IPX5 Waterproof, Immersive Premium Sound Long Distance Connection Headset with Charging Case, Black', 'Apple EarPods Headphones with 3.5mm Plug', 'TOZO T6 True Wireless Earbuds Bluetooth 5.3 Headphones Touch Control with Wireless Charging Case IPX8 Waterproof Stereo Earphones in-Ear Built-in Mic Headset Premium Deep Bass Black (2022 Upgraded)', 'Sony ZX Series Wired On-Ear Headphones, Black MDR-ZX110', 'TOZO T10 Bluetooth 5.3 Wireless Earbuds with Wireless Charging Case IPX8 Waterproof Stereo Headphones in Ear Built in Mic Headset Premium Sound with Deep Bass for Sport Black (2022 Upgraded)', 'JBL VIBE 100 TWS - True Wireless In-Ear Headphones - Black', 'Soundcore Anker Life Q20 Hybrid Active Noise Cancelling Headphones, Wireless Over Ear Bluetooth Headphones, 40H Playtime, Hi-Res Audio, Deep Bass, Memory Foam Ear Cups, for Travel, Home Office', '[3 Pairs] Replacement Ear Tips for Airpods Pro and Airpods Pro 2nd Generation with Noise Reduction Hole, Silicone Ear Tips for Airpods Pro with Portable Storage Box and Fit in The Charging Case(S/M/L)', 'JBL Tune 130NC TWS True Wireless In-Ear Noise Cancelling Headphones - Black', 'Beats Solo3 Wireless On-Ear Headphones - Apple W1 Headphone Chip, Class 1 Bluetooth, 40 Hours of Listening Time, Built-in Microphone - Black (Latest Model)', 'TAGRY Bluetooth Headphones True Wireless Earbuds 60H Playback LED Power Display Earphones with Wireless Charging Case IPX5 Waterproof in-Ear Earbuds with Mic for TV Smart Phone Computer Laptop Sports', 'Amazon Basics 3.5 mm Male to Male Stereo Audio Cable, 8 Feet, 2.4 Meters, Speaker', 'Perytong Sleep Headphones Wireless, Bluetooth Sports Headband Headphones with Ultra-Thin HD Stereo Speakers Perfect for Sleeping,Workout,Jogging,Yoga,Insomnia, Air Travel, Meditation, Grey', 'TOZO A3 Wireless\\u2002Earbuds Bluetooth 5.3 Half in-Ear Lightweight Headsets with Digital Call Noise Reduction,Charging Case with Reset Button Hall Detection,Premium Sound with Long Endurance,White', 'DOBOPO Wireless Earbuds Bluetooth 5.3 Headphones 50Hrs Playtime Sports Earphones Over-Ear Earhooks Headset with LED Display, ENC Mic, IP7 Waterproof for Workout, Running, Gym (2023 New', 'Amazon Basics In-Ear Wired Headphones, Earbuds with Microphone, Black', 'TAGRY Bluetooth Headphones True Wireless Earbuds 60H Playback LED Power Display Earphones with Wireless Charging Case IPX5 Waterproof in-Ear Earbuds with Mic for TV Smart Phone Computer Laptop Sports', 'GOLREX Bluetooth Headphones Wireless Earbuds 36Hrs Playtime Wireless Charging Case Digital LED Display Over-Ear Earphones with Earhook Waterproof Headset with Mic for Sport Running Workout Black', 'JLab Go Air Pop True Wireless Bluetooth Earbuds + Charging Case | Slate | Dual Connect | IPX4 Sweat Resistance | Bluetooth 5.1 Connection | 3 EQ Sound Settings Signature, Balanced, Bass Boost', 'Lightning to 3.5 mm Headphone Jack Adapter, [Apple MFi Certified] 3 Pack iPhone 3.5mm Headphones/Earphones Jack Aux Audio Dongle Adapter Compatible for iPhone 14 13 12 11 XS XR X 8 7, Support All iOS', 'Apple USB-C to 3.5 mm Headphone Jack Adapter', 'Wireless Earbuds Bluetooth Headphones 60H Playtime Ear Buds with LED Power Display Charging Case Earphones in-Ear Earbud with Microphone for Android Cell Phone Gaming Computer Laptop Sport Black', 'Wireless Earbuds Bluetooth Headphones 130Hrs Playtime with 2500mAh Wireless Charging Case LED Diaplay Hi-Fi Waterproof Over Ear Earphones for Sports Running Workout Gaming', 'Wireless Earbuds, Bluetooth 5.3 Earbuds with 43H Playtime, IPX6 Waterproof Stereo Sound True Wireless Earbuds with Microphone, Bluetooth Headphones for Sport and Working', 'sephia SP3060 Earbuds Wired in Ear Headphones with Tangle-Free Cord Noise Isolating Earphones Deep Bass Case Ear Buds 3.5 mm Jack Plug', 'TOZO NC2 Hybrid Active Noise Cancelling Wireless Earbuds, in-Ear Detection Headphones, IPX6 Waterproof Bluetooth 5.2 Stereo Earphones, Immersive Sound Premium Deep Bass Headset, Black', 'Apple AirPods (2nd Generation) Wireless Earbuds with Lightning Charging Case Included', 'Apple EarPods Headphones with Lightning Connector', 'Apple AirPods Pro (2nd Generation) Wireless Earbuds, Up to 2X More Active Noise Cancelling, Adaptive Transparency, Personalized Spatial Audio, MagSafe Charging Case, Bluetooth Headphones for iPhone', 'Apple Lightning to 3.5 mm Headphone Jack Adapter', 'TOZO A1 Mini Wireless Earbuds Bluetooth 5.3 in Ear Light-Weight Headphones Built-in Microphone, IPX5 Waterproof, Immersive Premium Sound Long Distance Connection Headset with Charging Case, Black', 'Apple EarPods Headphones with 3.5mm Plug', 'TOZO T6 True Wireless Earbuds Bluetooth 5.3 Headphones Touch Control with Wireless Charging Case IPX8 Waterproof Stereo Earphones in-Ear Built-in Mic Headset Premium Deep Bass Black (2022 Upgraded)', 'Sony ZX Series Wired On-Ear Headphones, Black MDR-ZX110', 'TOZO T10 Bluetooth 5.3 Wireless Earbuds with Wireless Charging Case IPX8 Waterproof Stereo Headphones in Ear Built in Mic Headset Premium Sound with Deep Bass for Sport Black (2022 Upgraded)', 'JBL VIBE 100 TWS - True Wireless In-Ear Headphones - Black', 'Soundcore Anker Life Q20 Hybrid Active Noise Cancelling Headphones, Wireless Over Ear Bluetooth Headphones, 40H Playtime, Hi-Res Audio, Deep Bass, Memory Foam Ear Cups, for Travel, Home Office', '[3 Pairs] Replacement Ear Tips for Airpods Pro and Airpods Pro 2nd Generation with Noise Reduction Hole, Silicone Ear Tips for Airpods Pro with Portable Storage Box and Fit in The Charging Case(S/M/L)', 'JBL Tune 130NC TWS True Wireless In-Ear Noise Cancelling Headphones - Black', 'Beats Solo3 Wireless On-Ear Headphones - Apple W1 Headphone Chip, Class 1 Bluetooth, 40 Hours of Listening Time, Built-in Microphone - Black (Latest Model)', 'TAGRY Bluetooth Headphones True Wireless Earbuds 60H Playback LED Power Display Earphones with Wireless Charging Case IPX5 Waterproof in-Ear Earbuds with Mic for TV Smart Phone Computer Laptop Sports', 'Amazon Basics 3.5 mm Male to Male Stereo Audio Cable, 8 Feet, 2.4 Meters, Speaker', 'Perytong Sleep Headphones Wireless, Bluetooth Sports Headband Headphones with Ultra-Thin HD Stereo Speakers Perfect for Sleeping,Workout,Jogging,Yoga,Insomnia, Air Travel, Meditation, Grey', 'TOZO A3 Wireless\\u2002Earbuds Bluetooth 5.3 Half in-Ear Lightweight Headsets with Digital Call Noise Reduction,Charging Case with Reset Button Hall Detection,Premium Sound with Long Endurance,White', 'DOBOPO Wireless Earbuds Bluetooth 5.3 Headphones 50Hrs Playtime Sports Earphones Over-Ear Earhooks Headset with LED Display, ENC Mic, IP7 Waterproof for Workout, Running, Gym (2023 New', 'Amazon Basics In-Ear Wired Headphones, Earbuds with Microphone, Black', 'TAGRY Bluetooth Headphones True Wireless Earbuds 60H Playback LED Power Display Earphones with Wireless Charging Case IPX5 Waterproof in-Ear Earbuds with Mic for TV Smart Phone Computer Laptop Sports', 'GOLREX Bluetooth Headphones Wireless Earbuds 36Hrs Playtime Wireless Charging Case Digital LED Display Over-Ear Earphones with Earhook Waterproof Headset with Mic for Sport Running Workout Black', 'JLab Go Air Pop True Wireless Bluetooth Earbuds + Charging Case | Slate | Dual Connect | IPX4 Sweat Resistance | Bluetooth 5.1 Connection | 3 EQ Sound Settings Signature, Balanced, Bass Boost', 'Lightning to 3.5 mm Headphone Jack Adapter, [Apple MFi Certified] 3 Pack iPhone 3.5mm Headphones/Earphones Jack Aux Audio Dongle Adapter Compatible for iPhone 14 13 12 11 XS XR X 8 7, Support All iOS', 'Apple USB-C to 3.5 mm Headphone Jack Adapter', 'Wireless Earbuds Bluetooth Headphones 60H Playtime Ear Buds with LED Power Display Charging Case Earphones in-Ear Earbud with Microphone for Android Cell Phone Gaming Computer Laptop Sport Black', 'Wireless Earbuds Bluetooth Headphones 130Hrs Playtime with 2500mAh Wireless Charging Case LED Diaplay Hi-Fi Waterproof Over Ear Earphones for Sports Running Workout Gaming', 'Wireless Earbuds, Bluetooth 5.3 Earbuds with 43H Playtime, IPX6 Waterproof Stereo Sound True Wireless Earbuds with Microphone, Bluetooth Headphones for Sport and Working', 'sephia SP3060 Earbuds Wired in Ear Headphones with Tangle-Free Cord Noise Isolating Earphones Deep Bass Case Ear Buds 3.5 mm Jack Plug', 'TOZO NC2 Hybrid Active Noise Cancelling Wireless Earbuds, in-Ear Detection Headphones, IPX6 Waterproof Bluetooth 5.2 Stereo Earphones, Immersive Sound Premium Deep Bass Headset, Black', 'Apple AirPods (2nd Generation) Wireless Earbuds with Lightning Charging Case Included', 'Apple EarPods Headphones with Lightning Connector', 'Apple AirPods Pro (2nd Generation) Wireless Earbuds, Up to 2X More Active Noise Cancelling, Adaptive Transparency, Personalized Spatial Audio, MagSafe Charging Case, Bluetooth Headphones for iPhone', 'Apple Lightning to 3.5 mm Headphone Jack Adapter', 'TOZO A1 Mini Wireless Earbuds Bluetooth 5.3 in Ear Light-Weight Headphones Built-in Microphone, IPX5 Waterproof, Immersive Premium Sound Long Distance Connection Headset with Charging Case, Black', 'Apple EarPods Headphones with 3.5mm Plug', 'TOZO T6 True Wireless Earbuds Bluetooth 5.3 Headphones Touch Control with Wireless Charging Case IPX8 Waterproof Stereo Earphones in-Ear Built-in Mic Headset Premium Deep Bass Black (2022 Upgraded)', 'Sony ZX Series Wired On-Ear Headphones, Black MDR-ZX110', 'TOZO T10 Bluetooth 5.3 Wireless Earbuds with Wireless Charging Case IPX8 Waterproof Stereo Headphones in Ear Built in Mic Headset Premium Sound with Deep Bass for Sport Black (2022 Upgraded)', 'JBL VIBE 100 TWS - True Wireless In-Ear Headphones - Black', 'Soundcore Anker Life Q20 Hybrid Active Noise Cancelling Headphones, Wireless Over Ear Bluetooth Headphones, 40H Playtime, Hi-Res Audio, Deep Bass, Memory Foam Ear Cups, for Travel, Home Office', '[3 Pairs] Replacement Ear Tips for Airpods Pro and Airpods Pro 2nd Generation with Noise Reduction Hole, Silicone Ear Tips for Airpods Pro with Portable Storage Box and Fit in The Charging Case(S/M/L)', 'JBL Tune 130NC TWS True Wireless In-Ear Noise Cancelling Headphones - Black', 'Beats Solo3 Wireless On-Ear Headphones - Apple W1 Headphone Chip, Class 1 Bluetooth, 40 Hours of Listening Time, Built-in Microphone - Black (Latest Model)', 'TAGRY Bluetooth Headphones True Wireless Earbuds 60H Playback LED Power Display Earphones with Wireless Charging Case IPX5 Waterproof in-Ear Earbuds with Mic for TV Smart Phone Computer Laptop Sports', 'Amazon Basics 3.5 mm Male to Male Stereo Audio Cable, 8 Feet, 2.4 Meters, Speaker', 'Perytong Sleep Headphones Wireless, Bluetooth Sports Headband Headphones with Ultra-Thin HD Stereo Speakers Perfect for Sleeping,Workout,Jogging,Yoga,Insomnia, Air Travel, Meditation, Grey', 'TOZO A3 Wireless\\u2002Earbuds Bluetooth 5.3 Half in-Ear Lightweight Headsets with Digital Call Noise Reduction,Charging Case with Reset Button Hall Detection,Premium Sound with Long Endurance,White', 'DOBOPO Wireless Earbuds Bluetooth 5.3 Headphones 50Hrs Playtime Sports Earphones Over-Ear Earhooks Headset with LED Display, ENC Mic, IP7 Waterproof for Workout, Running, Gym (2023 New', 'Amazon Basics In-Ear Wired Headphones, Earbuds with Microphone, Black', 'TAGRY Bluetooth Headphones True Wireless Earbuds 60H Playback LED Power Display Earphones with Wireless Charging Case IPX5 Waterproof in-Ear Earbuds with Mic for TV Smart Phone Computer Laptop Sports', 'GOLREX Bluetooth Headphones Wireless Earbuds 36Hrs Playtime Wireless Charging Case Digital LED Display Over-Ear Earphones with Earhook Waterproof Headset with Mic for Sport Running Workout Black', 'JLab Go Air Pop True Wireless Bluetooth Earbuds + Charging Case | Slate | Dual Connect | IPX4 Sweat Resistance | Bluetooth 5.1 Connection | 3 EQ Sound Settings Signature, Balanced, Bass Boost', 'Lightning to 3.5 mm Headphone Jack Adapter, [Apple MFi Certified] 3 Pack iPhone 3.5mm Headphones/Earphones Jack Aux Audio Dongle Adapter Compatible for iPhone 14 13 12 11 XS XR X 8 7, Support All iOS', 'Apple USB-C to 3.5 mm Headphone Jack Adapter', 'Wireless Earbuds Bluetooth Headphones 60H Playtime Ear Buds with LED Power Display Charging Case Earphones in-Ear Earbud with Microphone for Android Cell Phone Gaming Computer Laptop Sport Black', 'Wireless Earbuds Bluetooth Headphones 130Hrs Playtime with 2500mAh Wireless Charging Case LED Diaplay Hi-Fi Waterproof Over Ear Earphones for Sports Running Workout Gaming', 'Wireless Earbuds, Bluetooth 5.3 Earbuds with 43H Playtime, IPX6 Waterproof Stereo Sound True Wireless Earbuds with Microphone, Bluetooth Headphones for Sport and Working', 'sephia SP3060 Earbuds Wired in Ear Headphones with Tangle-Free Cord Noise Isolating Earphones Deep Bass Case Ear Buds 3.5 mm Jack Plug', 'TOZO NC2 Hybrid Active Noise Cancelling Wireless Earbuds, in-Ear Detection Headphones, IPX6 Waterproof Bluetooth 5.2 Stereo Earphones, Immersive Sound Premium Deep Bass Headset, Black', 'Apple AirPods (2nd Generation) Wireless Earbuds with Lightning Charging Case Included', 'Apple EarPods Headphones with Lightning Connector', 'Apple AirPods Pro (2nd Generation) Wireless Earbuds, Up to 2X More Active Noise Cancelling, Adaptive Transparency, Personalized Spatial Audio, MagSafe Charging Case, Bluetooth Headphones for iPhone', 'Apple Lightning to 3.5 mm Headphone Jack Adapter', 'TOZO A1 Mini Wireless Earbuds Bluetooth 5.3 in Ear Light-Weight Headphones Built-in Microphone, IPX5 Waterproof, Immersive Premium Sound Long Distance Connection Headset with Charging Case, Black', 'Apple EarPods Headphones with 3.5mm Plug', 'TOZO T6 True Wireless Earbuds Bluetooth 5.3 Headphones Touch Control with Wireless Charging Case IPX8 Waterproof Stereo Earphones in-Ear Built-in Mic Headset Premium Deep Bass Black (2022 Upgraded)', 'Sony ZX Series Wired On-Ear Headphones, Black MDR-ZX110', 'TOZO T10 Bluetooth 5.3 Wireless Earbuds with Wireless Charging Case IPX8 Waterproof Stereo Headphones in Ear Built in Mic Headset Premium Sound with Deep Bass for Sport Black (2022 Upgraded)', 'JBL VIBE 100 TWS - True Wireless In-Ear Headphones - Black', 'Soundcore Anker Life Q20 Hybrid Active Noise Cancelling Headphones, Wireless Over Ear Bluetooth Headphones, 40H Playtime, Hi-Res Audio, Deep Bass, Memory Foam Ear Cups, for Travel, Home Office', '[3 Pairs] Replacement Ear Tips for Airpods Pro and Airpods Pro 2nd Generation with Noise Reduction Hole, Silicone Ear Tips for Airpods Pro with Portable Storage Box and Fit in The Charging Case(S/M/L)', 'JBL Tune 130NC TWS True Wireless In-Ear Noise Cancelling Headphones - Black', 'Beats Solo3 Wireless On-Ear Headphones - Apple W1 Headphone Chip, Class 1 Bluetooth, 40 Hours of Listening Time, Built-in Microphone - Black (Latest Model)', 'TAGRY Bluetooth Headphones True Wireless Earbuds 60H Playback LED Power Display Earphones with Wireless Charging Case IPX5 Waterproof in-Ear Earbuds with Mic for TV Smart Phone Computer Laptop Sports', 'Amazon Basics 3.5 mm Male to Male Stereo Audio Cable, 8 Feet, 2.4 Meters, Speaker', 'Perytong Sleep Headphones Wireless, Bluetooth Sports Headband Headphones with Ultra-Thin HD Stereo Speakers Perfect for Sleeping,Workout,Jogging,Yoga,Insomnia, Air Travel, Meditation, Grey', 'TOZO A3 Wireless\\u2002Earbuds Bluetooth 5.3 Half in-Ear Lightweight Headsets with Digital Call Noise Reduction,Charging Case with Reset Button Hall Detection,Premium Sound with Long Endurance,White', 'DOBOPO Wireless Earbuds Bluetooth 5.3 Headphones 50Hrs Playtime Sports Earphones Over-Ear Earhooks Headset with LED Display, ENC Mic, IP7 Waterproof for Workout, Running, Gym (2023 New', 'Amazon Basics In-Ear Wired Headphones, Earbuds with Microphone, Black', 'TAGRY Bluetooth Headphones True Wireless Earbuds 60H Playback LED Power Display Earphones with Wireless Charging Case IPX5 Waterproof in-Ear Earbuds with Mic for TV Smart Phone Computer Laptop Sports', 'GOLREX Bluetooth Headphones Wireless Earbuds 36Hrs Playtime Wireless Charging Case Digital LED Display Over-Ear Earphones with Earhook Waterproof Headset with Mic for Sport Running Workout Black', 'JLab Go Air Pop True Wireless Bluetooth Earbuds + Charging Case | Slate | Dual Connect | IPX4 Sweat Resistance | Bluetooth 5.1 Connection | 3 EQ Sound Settings Signature, Balanced, Bass Boost', 'Lightning to 3.5 mm Headphone Jack Adapter, [Apple MFi Certified] 3 Pack iPhone 3.5mm Headphones/Earphones Jack Aux Audio Dongle Adapter Compatible for iPhone 14 13 12 11 XS XR X 8 7, Support All iOS', 'Apple USB-C to 3.5 mm Headphone Jack Adapter', 'Wireless Earbuds Bluetooth Headphones 60H Playtime Ear Buds with LED Power Display Charging Case Earphones in-Ear Earbud with Microphone for Android Cell Phone Gaming Computer Laptop Sport Black', 'Wireless Earbuds Bluetooth Headphones 130Hrs Playtime with 2500mAh Wireless Charging Case LED Diaplay Hi-Fi Waterproof Over Ear Earphones for Sports Running Workout Gaming', 'Wireless Earbuds, Bluetooth 5.3 Earbuds with 43H Playtime, IPX6 Waterproof Stereo Sound True Wireless Earbuds with Microphone, Bluetooth Headphones for Sport and Working', 'sephia SP3060 Earbuds Wired in Ear Headphones with Tangle-Free Cord Noise Isolating Earphones Deep Bass Case Ear Buds 3.5 mm Jack Plug', 'TOZO NC2 Hybrid Active Noise Cancelling Wireless Earbuds, in-Ear Detection Headphones, IPX6 Waterproof Bluetooth 5.2 Stereo Earphones, Immersive Sound Premium Deep Bass Headset, Black', 'Apple AirPods (2nd Generation) Wireless Earbuds with Lightning Charging Case Included', 'Apple EarPods Headphones with Lightning Connector', 'Apple AirPods Pro (2nd Generation) Wireless Earbuds, Up to 2X More Active Noise Cancelling, Adaptive Transparency, Personalized Spatial Audio, MagSafe Charging Case, Bluetooth Headphones for iPhone', 'Apple Lightning to 3.5 mm Headphone Jack Adapter', 'TOZO A1 Mini Wireless Earbuds Bluetooth 5.3 in Ear Light-Weight Headphones Built-in Microphone, IPX5 Waterproof, Immersive Premium Sound Long Distance Connection Headset with Charging Case, Black', 'Apple EarPods Headphones with 3.5mm Plug', 'TOZO T6 True Wireless Earbuds Bluetooth 5.3 Headphones Touch Control with Wireless Charging Case IPX8 Waterproof Stereo Earphones in-Ear Built-in Mic Headset Premium Deep Bass Black (2022 Upgraded)', 'Sony ZX Series Wired On-Ear Headphones, Black MDR-ZX110', 'TOZO T10 Bluetooth 5.3 Wireless Earbuds with Wireless Charging Case IPX8 Waterproof Stereo Headphones in Ear Built in Mic Headset Premium Sound with Deep Bass for Sport Black (2022 Upgraded)', 'JBL VIBE 100 TWS - True Wireless In-Ear Headphones - Black', 'Soundcore Anker Life Q20 Hybrid Active Noise Cancelling Headphones, Wireless Over Ear Bluetooth Headphones, 40H Playtime, Hi-Res Audio, Deep Bass, Memory Foam Ear Cups, for Travel, Home Office', '[3 Pairs] Replacement Ear Tips for Airpods Pro and Airpods Pro 2nd Generation with Noise Reduction Hole, Silicone Ear Tips for Airpods Pro with Portable Storage Box and Fit in The Charging Case(S/M/L)', 'JBL Tune 130NC TWS True Wireless In-Ear Noise Cancelling Headphones - Black', 'Beats Solo3 Wireless On-Ear Headphones - Apple W1 Headphone Chip, Class 1 Bluetooth, 40 Hours of Listening Time, Built-in Microphone - Black (Latest Model)', 'TAGRY Bluetooth Headphones True Wireless Earbuds 60H Playback LED Power Display Earphones with Wireless Charging Case IPX5 Waterproof in-Ear Earbuds with Mic for TV Smart Phone Computer Laptop Sports', 'Amazon Basics 3.5 mm Male to Male Stereo Audio Cable, 8 Feet, 2.4 Meters, Speaker', 'Perytong Sleep Headphones Wireless, Bluetooth Sports Headband Headphones with Ultra-Thin HD Stereo Speakers Perfect for Sleeping,Workout,Jogging,Yoga,Insomnia, Air Travel, Meditation, Grey', 'TOZO A3 Wireless\\u2002Earbuds Bluetooth 5.3 Half in-Ear Lightweight Headsets with Digital Call Noise Reduction,Charging Case with Reset Button Hall Detection,Premium Sound with Long Endurance,White', 'DOBOPO Wireless Earbuds Bluetooth 5.3 Headphones 50Hrs Playtime Sports Earphones Over-Ear Earhooks Headset with LED Display, ENC Mic, IP7 Waterproof for Workout, Running, Gym (2023 New', 'Amazon Basics In-Ear Wired Headphones, Earbuds with Microphone, Black', 'TAGRY Bluetooth Headphones True Wireless Earbuds 60H Playback LED Power Display Earphones with Wireless Charging Case IPX5 Waterproof in-Ear Earbuds with Mic for TV Smart Phone Computer Laptop Sports', 'GOLREX Bluetooth Headphones Wireless Earbuds 36Hrs Playtime Wireless Charging Case Digital LED Display Over-Ear Earphones with Earhook Waterproof Headset with Mic for Sport Running Workout Black', 'JLab Go Air Pop True Wireless Bluetooth Earbuds + Charging Case | Slate | Dual Connect | IPX4 Sweat Resistance | Bluetooth 5.1 Connection | 3 EQ Sound Settings Signature, Balanced, Bass Boost', 'Lightning to 3.5 mm Headphone Jack Adapter, [Apple MFi Certified] 3 Pack iPhone 3.5mm Headphones/Earphones Jack Aux Audio Dongle Adapter Compatible for iPhone 14 13 12 11 XS XR X 8 7, Support All iOS', 'Apple USB-C to 3.5 mm Headphone Jack Adapter', 'Wireless Earbuds Bluetooth Headphones 60H Playtime Ear Buds with LED Power Display Charging Case Earphones in-Ear Earbud with Microphone for Android Cell Phone Gaming Computer Laptop Sport Black', 'Wireless Earbuds Bluetooth Headphones 130Hrs Playtime with 2500mAh Wireless Charging Case LED Diaplay Hi-Fi Waterproof Over Ear Earphones for Sports Running Workout Gaming', 'Wireless Earbuds, Bluetooth 5.3 Earbuds with 43H Playtime, IPX6 Waterproof Stereo Sound True Wireless Earbuds with Microphone, Bluetooth Headphones for Sport and Working', 'sephia SP3060 Earbuds Wired in Ear Headphones with Tangle-Free Cord Noise Isolating Earphones Deep Bass Case Ear Buds 3.5 mm Jack Plug', 'TOZO NC2 Hybrid Active Noise Cancelling Wireless Earbuds, in-Ear Detection Headphones, IPX6 Waterproof Bluetooth 5.2 Stereo Earphones, Immersive Sound Premium Deep Bass Headset, Black', 'Apple AirPods (2nd Generation) Wireless Earbuds with Lightning Charging Case Included', 'Apple EarPods Headphones with Lightning Connector', 'Apple AirPods Pro (2nd Generation) Wireless Earbuds, Up to 2X More Active Noise Cancelling, Adaptive Transparency, Personalized Spatial Audio, MagSafe Charging Case, Bluetooth Headphones for iPhone', 'Apple Lightning to 3.5 mm Headphone Jack Adapter', 'TOZO A1 Mini Wireless Earbuds Bluetooth 5.3 in Ear Light-Weight Headphones Built-in Microphone, IPX5 Waterproof, Immersive Premium Sound Long Distance Connection Headset with Charging Case, Black', 'Apple EarPods Headphones with 3.5mm Plug', 'TOZO T6 True Wireless Earbuds Bluetooth 5.3 Headphones Touch Control with Wireless Charging Case IPX8 Waterproof Stereo Earphones in-Ear Built-in Mic Headset Premium Deep Bass Black (2022 Upgraded)', 'Sony ZX Series Wired On-Ear Headphones, Black MDR-ZX110', 'TOZO T10 Bluetooth 5.3 Wireless Earbuds with Wireless Charging Case IPX8 Waterproof Stereo Headphones in Ear Built in Mic Headset Premium Sound with Deep Bass for Sport Black (2022 Upgraded)', 'JBL VIBE 100 TWS - True Wireless In-Ear Headphones - Black', 'Soundcore Anker Life Q20 Hybrid Active Noise Cancelling Headphones, Wireless Over Ear Bluetooth Headphones, 40H Playtime, Hi-Res Audio, Deep Bass, Memory Foam Ear Cups, for Travel, Home Office', '[3 Pairs] Replacement Ear Tips for Airpods Pro and Airpods Pro 2nd Generation with Noise Reduction Hole, Silicone Ear Tips for Airpods Pro with Portable Storage Box and Fit in The Charging Case(S/M/L)', 'JBL Tune 130NC TWS True Wireless In-Ear Noise Cancelling Headphones - Black', 'Beats Solo3 Wireless On-Ear Headphones - Apple W1 Headphone Chip, Class 1 Bluetooth, 40 Hours of Listening Time, Built-in Microphone - Black (Latest Model)', 'TAGRY Bluetooth Headphones True Wireless Earbuds 60H Playback LED Power Display Earphones with Wireless Charging Case IPX5 Waterproof in-Ear Earbuds with Mic for TV Smart Phone Computer Laptop Sports', 'Amazon Basics 3.5 mm Male to Male Stereo Audio Cable, 8 Feet, 2.4 Meters, Speaker', 'Perytong Sleep Headphones Wireless, Bluetooth Sports Headband Headphones with Ultra-Thin HD Stereo Speakers Perfect for Sleeping,Workout,Jogging,Yoga,Insomnia, Air Travel, Meditation, Grey', 'TOZO A3 Wireless\\u2002Earbuds Bluetooth 5.3 Half in-Ear Lightweight Headsets with Digital Call Noise Reduction,Charging Case with Reset Button Hall Detection,Premium Sound with Long Endurance,White', 'DOBOPO Wireless Earbuds Bluetooth 5.3 Headphones 50Hrs Playtime Sports Earphones Over-Ear Earhooks Headset with LED Display, ENC Mic, IP7 Waterproof for Workout, Running, Gym (2023 New', 'Amazon Basics In-Ear Wired Headphones, Earbuds with Microphone, Black', 'TAGRY Bluetooth Headphones True Wireless Earbuds 60H Playback LED Power Display Earphones with Wireless Charging Case IPX5 Waterproof in-Ear Earbuds with Mic for TV Smart Phone Computer Laptop Sports', 'GOLREX Bluetooth Headphones Wireless Earbuds 36Hrs Playtime Wireless Charging Case Digital LED Display Over-Ear Earphones with Earhook Waterproof Headset with Mic for Sport Running Workout Black', 'JLab Go Air Pop True Wireless Bluetooth Earbuds + Charging Case | Slate | Dual Connect | IPX4 Sweat Resistance | Bluetooth 5.1 Connection | 3 EQ Sound Settings Signature, Balanced, Bass Boost', 'Lightning to 3.5 mm Headphone Jack Adapter, [Apple MFi Certified] 3 Pack iPhone 3.5mm Headphones/Earphones Jack Aux Audio Dongle Adapter Compatible for iPhone 14 13 12 11 XS XR X 8 7, Support All iOS', 'Apple USB-C to 3.5 mm Headphone Jack Adapter', 'Wireless Earbuds Bluetooth Headphones 60H Playtime Ear Buds with LED Power Display Charging Case Earphones in-Ear Earbud with Microphone for Android Cell Phone Gaming Computer Laptop Sport Black', 'Wireless Earbuds Bluetooth Headphones 130Hrs Playtime with 2500mAh Wireless Charging Case LED Diaplay Hi-Fi Waterproof Over Ear Earphones for Sports Running Workout Gaming', 'Wireless Earbuds, Bluetooth 5.3 Earbuds with 43H Playtime, IPX6 Waterproof Stereo Sound True Wireless Earbuds with Microphone, Bluetooth Headphones for Sport and Working', 'sephia SP3060 Earbuds Wired in Ear Headphones with Tangle-Free Cord Noise Isolating Earphones Deep Bass Case Ear Buds 3.5 mm Jack Plug', 'TOZO NC2 Hybrid Active Noise Cancelling Wireless Earbuds, in-Ear Detection Headphones, IPX6 Waterproof Bluetooth 5.2 Stereo Earphones, Immersive Sound Premium Deep Bass Headset, Black', 'Apple AirPods (2nd Generation) Wireless Earbuds with Lightning Charging Case Included', 'Apple EarPods Headphones with Lightning Connector', 'Apple AirPods Pro (2nd Generation) Wireless Earbuds, Up to 2X More Active Noise Cancelling, Adaptive Transparency, Personalized Spatial Audio, MagSafe Charging Case, Bluetooth Headphones for iPhone', 'Apple Lightning to 3.5 mm Headphone Jack Adapter', 'TOZO A1 Mini Wireless Earbuds Bluetooth 5.3 in Ear Light-Weight Headphones Built-in Microphone, IPX5 Waterproof, Immersive Premium Sound Long Distance Connection Headset with Charging Case, Black', 'Apple EarPods Headphones with 3.5mm Plug', 'TOZO T6 True Wireless Earbuds Bluetooth 5.3 Headphones Touch Control with Wireless Charging Case IPX8 Waterproof Stereo Earphones in-Ear Built-in Mic Headset Premium Deep Bass Black (2022 Upgraded)', 'Sony ZX Series Wired On-Ear Headphones, Black MDR-ZX110', 'TOZO T10 Bluetooth 5.3 Wireless Earbuds with Wireless Charging Case IPX8 Waterproof Stereo Headphones in Ear Built in Mic Headset Premium Sound with Deep Bass for Sport Black (2022 Upgraded)', 'JBL VIBE 100 TWS - True Wireless In-Ear Headphones - Black', 'Soundcore Anker Life Q20 Hybrid Active Noise Cancelling Headphones, Wireless Over Ear Bluetooth Headphones, 40H Playtime, Hi-Res Audio, Deep Bass, Memory Foam Ear Cups, for Travel, Home Office', '[3 Pairs] Replacement Ear Tips for Airpods Pro and Airpods Pro 2nd Generation with Noise Reduction Hole, Silicone Ear Tips for Airpods Pro with Portable Storage Box and Fit in The Charging Case(S/M/L)', 'JBL Tune 130NC TWS True Wireless In-Ear Noise Cancelling Headphones - Black', 'Beats Solo3 Wireless On-Ear Headphones - Apple W1 Headphone Chip, Class 1 Bluetooth, 40 Hours of Listening Time, Built-in Microphone - Black (Latest Model)', 'TAGRY Bluetooth Headphones True Wireless Earbuds 60H Playback LED Power Display Earphones with Wireless Charging Case IPX5 Waterproof in-Ear Earbuds with Mic for TV Smart Phone Computer Laptop Sports', 'Amazon Basics 3.5 mm Male to Male Stereo Audio Cable, 8 Feet, 2.4 Meters, Speaker', 'Perytong Sleep Headphones Wireless, Bluetooth Sports Headband Headphones with Ultra-Thin HD Stereo Speakers Perfect for Sleeping,Workout,Jogging,Yoga,Insomnia, Air Travel, Meditation, Grey', 'TOZO A3 Wireless\\u2002Earbuds Bluetooth 5.3 Half in-Ear Lightweight Headsets with Digital Call Noise Reduction,Charging Case with Reset Button Hall Detection,Premium Sound with Long Endurance,White', 'DOBOPO Wireless Earbuds Bluetooth 5.3 Headphones 50Hrs Playtime Sports Earphones Over-Ear Earhooks Headset with LED Display, ENC Mic, IP7 Waterproof for Workout, Running, Gym (2023 New', 'Amazon Basics In-Ear Wired Headphones, Earbuds with Microphone, Black', 'TAGRY Bluetooth Headphones True Wireless Earbuds 60H Playback LED Power Display Earphones with Wireless Charging Case IPX5 Waterproof in-Ear Earbuds with Mic for TV Smart Phone Computer Laptop Sports', 'GOLREX Bluetooth Headphones Wireless Earbuds 36Hrs Playtime Wireless Charging Case Digital LED Display Over-Ear Earphones with Earhook Waterproof Headset with Mic for Sport Running Workout Black', 'JLab Go Air Pop True Wireless Bluetooth Earbuds + Charging Case | Slate | Dual Connect | IPX4 Sweat Resistance | Bluetooth 5.1 Connection | 3 EQ Sound Settings Signature, Balanced, Bass Boost', 'Lightning to 3.5 mm Headphone Jack Adapter, [Apple MFi Certified] 3 Pack iPhone 3.5mm Headphones/Earphones Jack Aux Audio Dongle Adapter Compatible for iPhone 14 13 12 11 XS XR X 8 7, Support All iOS', 'Apple USB-C to 3.5 mm Headphone Jack Adapter', 'Wireless Earbuds Bluetooth Headphones 60H Playtime Ear Buds with LED Power Display Charging Case Earphones in-Ear Earbud with Microphone for Android Cell Phone Gaming Computer Laptop Sport Black', 'Wireless Earbuds Bluetooth Headphones 130Hrs Playtime with 2500mAh Wireless Charging Case LED Diaplay Hi-Fi Waterproof Over Ear Earphones for Sports Running Workout Gaming', 'Wireless Earbuds, Bluetooth 5.3 Earbuds with 43H Playtime, IPX6 Waterproof Stereo Sound True Wireless Earbuds with Microphone, Bluetooth Headphones for Sport and Working', 'sephia SP3060 Earbuds Wired in Ear Headphones with Tangle-Free Cord Noise Isolating Earphones Deep Bass Case Ear Buds 3.5 mm Jack Plug', 'TOZO NC2 Hybrid Active Noise Cancelling Wireless Earbuds, in-Ear Detection Headphones, IPX6 Waterproof Bluetooth 5.2 Stereo Earphones, Immersive Sound Premium Deep Bass Headset, Black']\n",
      "300\n"
     ]
    }
   ],
   "source": [
    "#getting the electonic product name\n",
    "\n",
    "product_names = []\n",
    "\n",
    "while page <= 10:\n",
    "    product_names_path = s.html.find('div._cDEzb_p13n-sc-css-line-clamp-3_g3dy1')\n",
    "\n",
    "    [product_names.append(p.text.split('. ')[0]) for p in product_names_path]\n",
    "     \n",
    "    page+=1\n",
    "\n",
    "print(product_names)\n",
    "\n",
    "print(len(product_names))\n"
   ]
  },
  {
   "cell_type": "code",
   "execution_count": 25,
   "id": "10270b71-f023-4a29-9783-6e4adc81f675",
   "metadata": {},
   "outputs": [
    {
     "name": "stdout",
     "output_type": "stream",
     "text": [
      "300\n",
      "['91.08', '16.22', '202.76', '13.95', '15.29', '16.99', '26.99', '6.00', '23.99', '47.99', '59.99', '9.99', '42.99', '119.55', '29.73', '7.19', '19.99', '16.99', '29.96', '8.99', '29.73', '29.99', '19.99', '10.98', '13.99', '25.49', '36.99', '25.99', '14.95', '33.98', '91.08', '16.22', '202.76', '13.95', '15.29', '16.99', '26.99', '6.00', '23.99', '47.99', '59.99', '9.99', '42.99', '119.55', '29.73', '7.19', '19.99', '16.99', '29.96', '8.99', '29.73', '29.99', '19.99', '10.98', '13.99', '25.49', '36.99', '25.99', '14.95', '33.98', '91.08', '16.22', '202.76', '13.95', '15.29', '16.99', '26.99', '6.00', '23.99', '47.99', '59.99', '9.99', '42.99', '119.55', '29.73', '7.19', '19.99', '16.99', '29.96', '8.99', '29.73', '29.99', '19.99', '10.98', '13.99', '25.49', '36.99', '25.99', '14.95', '33.98', '91.08', '16.22', '202.76', '13.95', '15.29', '16.99', '26.99', '6.00', '23.99', '47.99', '59.99', '9.99', '42.99', '119.55', '29.73', '7.19', '19.99', '16.99', '29.96', '8.99', '29.73', '29.99', '19.99', '10.98', '13.99', '25.49', '36.99', '25.99', '14.95', '33.98', '91.08', '16.22', '202.76', '13.95', '15.29', '16.99', '26.99', '6.00', '23.99', '47.99', '59.99', '9.99', '42.99', '119.55', '29.73', '7.19', '19.99', '16.99', '29.96', '8.99', '29.73', '29.99', '19.99', '10.98', '13.99', '25.49', '36.99', '25.99', '14.95', '33.98', '91.08', '16.22', '202.76', '13.95', '15.29', '16.99', '26.99', '6.00', '23.99', '47.99', '59.99', '9.99', '42.99', '119.55', '29.73', '7.19', '19.99', '16.99', '29.96', '8.99', '29.73', '29.99', '19.99', '10.98', '13.99', '25.49', '36.99', '25.99', '14.95', '33.98', '91.08', '16.22', '202.76', '13.95', '15.29', '16.99', '26.99', '6.00', '23.99', '47.99', '59.99', '9.99', '42.99', '119.55', '29.73', '7.19', '19.99', '16.99', '29.96', '8.99', '29.73', '29.99', '19.99', '10.98', '13.99', '25.49', '36.99', '25.99', '14.95', '33.98', '91.08', '16.22', '202.76', '13.95', '15.29', '16.99', '26.99', '6.00', '23.99', '47.99', '59.99', '9.99', '42.99', '119.55', '29.73', '7.19', '19.99', '16.99', '29.96', '8.99', '29.73', '29.99', '19.99', '10.98', '13.99', '25.49', '36.99', '25.99', '14.95', '33.98', '91.08', '16.22', '202.76', '13.95', '15.29', '16.99', '26.99', '6.00', '23.99', '47.99', '59.99', '9.99', '42.99', '119.55', '29.73', '7.19', '19.99', '16.99', '29.96', '8.99', '29.73', '29.99', '19.99', '10.98', '13.99', '25.49', '36.99', '25.99', '14.95', '33.98', '91.08', '16.22', '202.76', '13.95', '15.29', '16.99', '26.99', '6.00', '23.99', '47.99', '59.99', '9.99', '42.99', '119.55', '29.73', '7.19', '19.99', '16.99', '29.96', '8.99', '29.73', '29.99', '19.99', '10.98', '13.99', '25.49', '36.99', '25.99', '14.95', '33.98']\n"
     ]
    }
   ],
   "source": [
    "#getting product prices\n",
    "\n",
    "product_price = []\n",
    "\n",
    "while page <= 10:\n",
    "    product_price_path = s.html.find('span.a-size-base')\n",
    "    \n",
    "    [product_price.append(t.text.replace(\"$\",'')) for t in product_price_path]\n",
    "  \n",
    "    page+=1\n",
    "\n",
    "print(len(product_price))\n",
    "\n",
    "print(product_price)"
   ]
  },
  {
   "cell_type": "code",
   "execution_count": 18,
   "id": "363c6bfa-237f-4b36-8c03-fb0c21d5c3e3",
   "metadata": {},
   "outputs": [
    {
     "name": "stdout",
     "output_type": "stream",
     "text": [
      "300\n",
      "['4.8', '4.6', '4.7', '4.7', '4.3', '4.6', '4.4', '4.5', '4.3', '4.3', '4.5', '4.3', '4.3', '4.7', '4.5', '4.6', '4.3', '4.4', '4.8', '4.2', '4.5', '4.7', '4.4', '3.8', '4.5', '4.8', '4.9', '4.4', '4.3', '4.3', '4.8', '4.6', '4.7', '4.7', '4.3', '4.6', '4.4', '4.5', '4.3', '4.3', '4.5', '4.3', '4.3', '4.7', '4.5', '4.6', '4.3', '4.4', '4.8', '4.2', '4.5', '4.7', '4.4', '3.8', '4.5', '4.8', '4.9', '4.4', '4.3', '4.3', '4.8', '4.6', '4.7', '4.7', '4.3', '4.6', '4.4', '4.5', '4.3', '4.3', '4.5', '4.3', '4.3', '4.7', '4.5', '4.6', '4.3', '4.4', '4.8', '4.2', '4.5', '4.7', '4.4', '3.8', '4.5', '4.8', '4.9', '4.4', '4.3', '4.3', '4.8', '4.6', '4.7', '4.7', '4.3', '4.6', '4.4', '4.5', '4.3', '4.3', '4.5', '4.3', '4.3', '4.7', '4.5', '4.6', '4.3', '4.4', '4.8', '4.2', '4.5', '4.7', '4.4', '3.8', '4.5', '4.8', '4.9', '4.4', '4.3', '4.3', '4.8', '4.6', '4.7', '4.7', '4.3', '4.6', '4.4', '4.5', '4.3', '4.3', '4.5', '4.3', '4.3', '4.7', '4.5', '4.6', '4.3', '4.4', '4.8', '4.2', '4.5', '4.7', '4.4', '3.8', '4.5', '4.8', '4.9', '4.4', '4.3', '4.3', '4.8', '4.6', '4.7', '4.7', '4.3', '4.6', '4.4', '4.5', '4.3', '4.3', '4.5', '4.3', '4.3', '4.7', '4.5', '4.6', '4.3', '4.4', '4.8', '4.2', '4.5', '4.7', '4.4', '3.8', '4.5', '4.8', '4.9', '4.4', '4.3', '4.3', '4.8', '4.6', '4.7', '4.7', '4.3', '4.6', '4.4', '4.5', '4.3', '4.3', '4.5', '4.3', '4.3', '4.7', '4.5', '4.6', '4.3', '4.4', '4.8', '4.2', '4.5', '4.7', '4.4', '3.8', '4.5', '4.8', '4.9', '4.4', '4.3', '4.3', '4.8', '4.6', '4.7', '4.7', '4.3', '4.6', '4.4', '4.5', '4.3', '4.3', '4.5', '4.3', '4.3', '4.7', '4.5', '4.6', '4.3', '4.4', '4.8', '4.2', '4.5', '4.7', '4.4', '3.8', '4.5', '4.8', '4.9', '4.4', '4.3', '4.3', '4.8', '4.6', '4.7', '4.7', '4.3', '4.6', '4.4', '4.5', '4.3', '4.3', '4.5', '4.3', '4.3', '4.7', '4.5', '4.6', '4.3', '4.4', '4.8', '4.2', '4.5', '4.7', '4.4', '3.8', '4.5', '4.8', '4.9', '4.4', '4.3', '4.3', '4.8', '4.6', '4.7', '4.7', '4.3', '4.6', '4.4', '4.5', '4.3', '4.3', '4.5', '4.3', '4.3', '4.7', '4.5', '4.6', '4.3', '4.4', '4.8', '4.2', '4.5', '4.7', '4.4', '3.8', '4.5', '4.8', '4.9', '4.4', '4.3', '4.3']\n"
     ]
    }
   ],
   "source": [
    "#getting the product rating\n",
    "\n",
    "product_rating = []\n",
    "\n",
    "while page <= 10 :\n",
    "    product_rating_path = s.html.find('span.a-icon-alt')\n",
    "    [product_rating.append(j.text.split(\" \")[0]) for j in product_rating_path]\n",
    "\n",
    "    page +=1\n",
    "    \n",
    "print(len(product_rating))\n",
    "\n",
    "print(product_rating)\n"
   ]
  },
  {
   "cell_type": "code",
   "execution_count": 26,
   "id": "80a40003",
   "metadata": {
    "tags": []
   },
   "outputs": [
    {
     "data": {
      "text/html": [
       "<div>\n",
       "<style scoped>\n",
       "    .dataframe tbody tr th:only-of-type {\n",
       "        vertical-align: middle;\n",
       "    }\n",
       "\n",
       "    .dataframe tbody tr th {\n",
       "        vertical-align: top;\n",
       "    }\n",
       "\n",
       "    .dataframe thead th {\n",
       "        text-align: right;\n",
       "    }\n",
       "</style>\n",
       "<table border=\"1\" class=\"dataframe\">\n",
       "  <thead>\n",
       "    <tr style=\"text-align: right;\">\n",
       "      <th></th>\n",
       "      <th>product_names</th>\n",
       "      <th>product_prices_feb(2023)</th>\n",
       "      <th>product_ratings_feb(2023)</th>\n",
       "    </tr>\n",
       "  </thead>\n",
       "  <tbody>\n",
       "    <tr>\n",
       "      <th>0</th>\n",
       "      <td>Apple AirPods (2nd Generation) Wireless Earbud...</td>\n",
       "      <td>91.08</td>\n",
       "      <td>4.8</td>\n",
       "    </tr>\n",
       "    <tr>\n",
       "      <th>1</th>\n",
       "      <td>Apple EarPods Headphones with Lightning Connector</td>\n",
       "      <td>16.22</td>\n",
       "      <td>4.6</td>\n",
       "    </tr>\n",
       "    <tr>\n",
       "      <th>2</th>\n",
       "      <td>Apple AirPods Pro (2nd Generation) Wireless Ea...</td>\n",
       "      <td>202.76</td>\n",
       "      <td>4.7</td>\n",
       "    </tr>\n",
       "    <tr>\n",
       "      <th>3</th>\n",
       "      <td>Apple Lightning to 3.5 mm Headphone Jack Adapter</td>\n",
       "      <td>13.95</td>\n",
       "      <td>4.7</td>\n",
       "    </tr>\n",
       "    <tr>\n",
       "      <th>4</th>\n",
       "      <td>TOZO A1 Mini Wireless Earbuds Bluetooth 5.3 in...</td>\n",
       "      <td>15.29</td>\n",
       "      <td>4.3</td>\n",
       "    </tr>\n",
       "  </tbody>\n",
       "</table>\n",
       "</div>"
      ],
      "text/plain": [
       "                                       product_names product_prices_feb(2023)  \\\n",
       "0  Apple AirPods (2nd Generation) Wireless Earbud...                    91.08   \n",
       "1  Apple EarPods Headphones with Lightning Connector                    16.22   \n",
       "2  Apple AirPods Pro (2nd Generation) Wireless Ea...                   202.76   \n",
       "3   Apple Lightning to 3.5 mm Headphone Jack Adapter                    13.95   \n",
       "4  TOZO A1 Mini Wireless Earbuds Bluetooth 5.3 in...                    15.29   \n",
       "\n",
       "  product_ratings_feb(2023)  \n",
       "0                       4.8  \n",
       "1                       4.6  \n",
       "2                       4.7  \n",
       "3                       4.7  \n",
       "4                       4.3  "
      ]
     },
     "execution_count": 26,
     "metadata": {},
     "output_type": "execute_result"
    }
   ],
   "source": [
    "#Importing pandas and creating a dataframe\n",
    "\n",
    "import pandas as pd\n",
    "\n",
    "amazon_electronics_bestsellers_data = pd.DataFrame()\n",
    "\n",
    "amazon_electronics_bestsellers_data['product_names'] = pd.Series(product_names) \n",
    "\n",
    "amazon_electronics_bestsellers_data['product_prices_feb(2023)'] = pd.Series(product_price) \n",
    "\n",
    "amazon_electronics_bestsellers_data['product_ratings_feb(2023)'] = pd.Series(product_rating) \n",
    "\n",
    "amazon_electronics_bestsellers_data.head()\n",
    "\n",
    "\n",
    "\n",
    "    "
   ]
  },
  {
   "cell_type": "code",
   "execution_count": 27,
   "id": "3c302839-2c83-4345-a3d2-d11f49fe4efc",
   "metadata": {},
   "outputs": [],
   "source": [
    "#msaving dataframe as csv file\n",
    "amazon_electronics_bestsellers_data.to_csv(\"amazon_electronics_bestsellers.csv\")\n",
    "\n"
   ]
  },
  {
   "cell_type": "code",
   "execution_count": null,
   "id": "68eeb3d5-3227-4e2a-a5f9-1399757a3774",
   "metadata": {},
   "outputs": [],
   "source": []
  },
  {
   "cell_type": "markdown",
   "id": "090ce986-c81d-4458-b3ad-ec9f4ee933cf",
   "metadata": {},
   "source": [
    "#### Conclusion\n",
    "\n",
    "This part focused on parsing through the amazon electronics site and getting the bestsellers data. The data received was saved in a Pandas dataframe termed 'amazon_electronics_bestsellers_data' and saved to a csv file named 'amazon_electronics_bestsellers'. \n",
    "\n",
    "Upon re-running the program, a few notes were taken;\n",
    "\n",
    "-  Every time a cell containing the **product_names, product_pricing and product_rating** is needed to be run, the cell with the ***url and the get request*** should be run before continuing with the preferred cell.\n",
    "\n",
    "Further data processing would be continued below.\n",
    "\n",
    "\n"
   ]
  }
 ],
 "metadata": {
  "kernelspec": {
   "display_name": "Python 3 (ipykernel)",
   "language": "python",
   "name": "python3"
  },
  "language_info": {
   "codemirror_mode": {
    "name": "ipython",
    "version": 3
   },
   "file_extension": ".py",
   "mimetype": "text/x-python",
   "name": "python",
   "nbconvert_exporter": "python",
   "pygments_lexer": "ipython3",
   "version": "3.9.13"
  }
 },
 "nbformat": 4,
 "nbformat_minor": 5
}
