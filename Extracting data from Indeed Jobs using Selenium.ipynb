{
 "cells": [
  {
   "cell_type": "code",
   "execution_count": 43,
   "id": "44eb97fb",
   "metadata": {
    "scrolled": true
   },
   "outputs": [
    {
     "name": "stdout",
     "output_type": "stream",
     "text": [
      "Requirement already satisfied: selenium in c:\\users\\user\\anaconda3\\lib\\site-packages (4.8.0)\n",
      "Requirement already satisfied: trio-websocket~=0.9 in c:\\users\\user\\anaconda3\\lib\\site-packages (from selenium) (0.9.2)\n",
      "Requirement already satisfied: certifi>=2021.10.8 in c:\\users\\user\\anaconda3\\lib\\site-packages (from selenium) (2022.9.14)\n",
      "Requirement already satisfied: urllib3[socks]~=1.26 in c:\\users\\user\\anaconda3\\lib\\site-packages (from selenium) (1.26.11)\n",
      "Requirement already satisfied: trio~=0.17 in c:\\users\\user\\anaconda3\\lib\\site-packages (from selenium) (0.22.0)\n",
      "Requirement already satisfied: outcome in c:\\users\\user\\anaconda3\\lib\\site-packages (from trio~=0.17->selenium) (1.2.0)\n",
      "Requirement already satisfied: attrs>=19.2.0 in c:\\users\\user\\anaconda3\\lib\\site-packages (from trio~=0.17->selenium) (21.4.0)\n",
      "Requirement already satisfied: sortedcontainers in c:\\users\\user\\anaconda3\\lib\\site-packages (from trio~=0.17->selenium) (2.4.0)\n",
      "Requirement already satisfied: exceptiongroup>=1.0.0rc9 in c:\\users\\user\\anaconda3\\lib\\site-packages (from trio~=0.17->selenium) (1.1.0)\n",
      "Requirement already satisfied: async-generator>=1.9 in c:\\users\\user\\anaconda3\\lib\\site-packages (from trio~=0.17->selenium) (1.10)\n",
      "Requirement already satisfied: sniffio in c:\\users\\user\\anaconda3\\lib\\site-packages (from trio~=0.17->selenium) (1.2.0)\n",
      "Requirement already satisfied: idna in c:\\users\\user\\anaconda3\\lib\\site-packages (from trio~=0.17->selenium) (3.3)\n",
      "Requirement already satisfied: cffi>=1.14 in c:\\users\\user\\anaconda3\\lib\\site-packages (from trio~=0.17->selenium) (1.15.1)\n",
      "Requirement already satisfied: wsproto>=0.14 in c:\\users\\user\\anaconda3\\lib\\site-packages (from trio-websocket~=0.9->selenium) (1.2.0)\n",
      "Requirement already satisfied: PySocks!=1.5.7,<2.0,>=1.5.6 in c:\\users\\user\\anaconda3\\lib\\site-packages (from urllib3[socks]~=1.26->selenium) (1.7.1)\n",
      "Requirement already satisfied: pycparser in c:\\users\\user\\anaconda3\\lib\\site-packages (from cffi>=1.14->trio~=0.17->selenium) (2.21)\n",
      "Requirement already satisfied: h11<1,>=0.9.0 in c:\\users\\user\\anaconda3\\lib\\site-packages (from wsproto>=0.14->trio-websocket~=0.9->selenium) (0.14.0)\n"
     ]
    }
   ],
   "source": [
    "#Installing selenium\n",
    "\n",
    "!pip install selenium"
   ]
  },
  {
   "cell_type": "code",
   "execution_count": 44,
   "id": "f95e8f91",
   "metadata": {},
   "outputs": [],
   "source": [
    "#Open indeed.com and obtain the information from pages 1-5\n"
   ]
  },
  {
   "cell_type": "code",
   "execution_count": 45,
   "id": "0e2cf2a8",
   "metadata": {},
   "outputs": [],
   "source": [
    "#importing selenium packages\n",
    "\n",
    "from selenium import webdriver\n",
    "from selenium.webdriver.common.by import By\n",
    "from selenium.webdriver.support.ui import WebDriverWait\n",
    "from selenium.webdriver.support import expected_conditions as EC\n"
   ]
  },
  {
   "cell_type": "code",
   "execution_count": 46,
   "id": "7b56a09c",
   "metadata": {},
   "outputs": [],
   "source": [
    "# launches a browser and get url\n",
    "\n",
    "url = 'https://www.indeed.com/jobs?q=data+science&l=remote&from=searchOnHP&vjk=7f60bf9274534aee'\n",
    "\n",
    "driver = webdriver.Chrome() # launches chrome browser\n",
    "driver.get(url)"
   ]
  },
  {
   "cell_type": "code",
   "execution_count": 47,
   "id": "9e4f7edb",
   "metadata": {},
   "outputs": [],
   "source": [
    "#fucntion to obtain data required\n",
    "\n",
    "all_titles = [] #append everything to empty list\n",
    "\n",
    "def indeed_information():\n",
    "    \n",
    "        #Page variable contains path to element '>' which moves to next page after parsing\n",
    "        page = driver.find_element(By.CSS_SELECTOR, ('div >a[data-testid = \"pagination-page-next\"]'))\n",
    "   \n",
    "        #Taking the job titles and cleaning the text with split method.\n",
    "        titles = driver.find_elements(By.XPATH, ('//h2/a[contains(@class, \"jcs-JobTitle css-jspxzf eu4oa1w0\")]/span'))\n",
    "    \n",
    "        job_titles = [job.text.split(\",\")[0] for job in titles]\n",
    "    \n",
    "        \n",
    "        if titles is not None:\n",
    "            all_titles.append(job_titles)\n",
    "        else: all_titles.append('unknown')\n",
    "    \n",
    "        \n",
    "        # Taking the company name\n",
    "        company_name = driver.find_elements(By.XPATH, (\"//span[contains (@class, 'companyName')]\"))\n",
    "\n",
    "        company_names = [c.text for c in company_name]\n",
    "\n",
    "        if company_name is not None:\n",
    "            all_titles.append(company_names)\n",
    "        else: all_titles.append('unknown')\n",
    "       \n",
    "    \n",
    "        # Taking the location the work will be done\n",
    "        location = driver.find_elements(By.XPATH, (\"//div[contains (@class, 'companyLocation')]\"))\n",
    "\n",
    "        work_location = [c.text for c in location]\n",
    "        \n",
    "        if location is not None:\n",
    "            all_titles.append(work_location)\n",
    "        else: all_titles.append('unknown')\n",
    "       \n",
    "        \n",
    "        # If available, take the ratings given to the company\n",
    "        reviews = driver.find_elements(By.XPATH, (\"//span[contains (@class, 'ratingNumber')]\"))\n",
    "\n",
    "        company_reviews = [r.text for r in reviews]\n",
    "        \n",
    "        if reviews is not None:\n",
    "            all_titles.append(company_reviews)\n",
    "        else: all_titles.append('unknown')\n",
    "       \n",
    "        # Page to wait to load all content before attempting to click given element\n",
    "        WebDriverWait(driver,10).until(EC.presence_of_element_located((By.CSS_SELECTOR, ('div >a[data-testid = \"pagination-page-next\"]'))))\n",
    "        \n",
    "        page.click()\n",
    "        \n",
    "      \n",
    "    \n",
    "\n",
    "\n",
    "    \n",
    "   "
   ]
  },
  {
   "cell_type": "code",
   "execution_count": 48,
   "id": "1444c07a",
   "metadata": {},
   "outputs": [
    {
     "name": "stdout",
     "output_type": "stream",
     "text": [
      "[['Data Scientist (L4) - Game DSE', 'Data Scientist', 'Data Scientist', 'People Analytics Data Scientist', 'Associate Data Scientist - Online Business Analytics (Remote)', 'Machine Learning Engineer', 'Data Analyst - Implementation', 'Data Analyst (Entry Level)', 'Data Science', 'Data Scientist I (REMOTE)', 'Data Scientist', 'Staff Data Scientist', 'Data Engineer 2', 'Data Scientist', 'Data Analyst'], ['Netflix', 'Pinterest', 'Ancestry', 'General Motors', 'Home Depot / THD', 'Appriss Retail', 'Eon', 'Aural Analytics, Inc.', 'Messenger', 'Pekin Insurance', 'US Office of Federal Contract Compliance Programs', 'Devoted Health', 'Humana', 'Cambium Learning Group', 'Booz Allen Hamilton'], ['Remote', 'Remote', 'Remote', 'Remote', 'Remote in Atlanta, GA 30301', 'Remote', 'Remote', 'Remote', 'Remote', 'Remote', 'Remote in Wallops Island, VA', 'Remote', 'Remote in Louisville, KY 40202', 'Remote', 'Remote in Washington, DC'], ['3.9', '4.2', '3.8', '4.0', '3.7', '4.3', '4.1', '3.2', '3.6', '3.6', '3.1', '3.9'], ['SQL Data Analyst (Customer Success)', '(5) Data Analyst / Data Scientist', 'Director', 'Data Science Engineer', 'Data Scientist', 'Data Scientist', 'Senior Data Scientist (JR14391)', 'Front End Data Science Developer', 'Data Scientist', 'Data Science Associate (Remote)', 'Data Visualization Specialist', 'HR Data Analyst - Remote', 'Data Engineer', 'Data Scientist Assistant- Health', 'Data Scientist'], ['Eventbrite', \"TRA'BIAN ENTERPRISES\", 'Rhino New York', 'ServiceNow', 'Assetario', 'Netcore Cloud', 'Teladoc Health', 'Meta', 'Clubhouse', 'pulseData', 'Capgemini', 'Sheetz', 'Meta', 'American Institutes for Research', 'Procal Technologies'], ['Remote', 'Remote', 'Remote', 'Remote in Austin, TX', 'Remote', 'Remote', 'Remote', 'Remote', 'Remote', 'Remote in New York, NY', 'Remote', 'Remote in Claysburg, PA 16625', 'Remote', 'Remote', 'Remote'], ['4.1', '3.7', '3.1', '4.1', '4.2', '3.8', '3.8', '4.1', '3.7'], ['Senior Associate', 'Business Process Analyst 1', 'Data Scientist', 'Automations Data Analyst (REMOTE)', 'Data Scientist', 'Senior Data Analyst', 'Data Scientist', 'Junior Data Scientist', 'Data Analyst', 'Associate Data Scientist (Remote)', 'Data Specialist', 'Data Scientist', 'Data Analyst', 'Data Science Manager', 'Manager Data Science - REMOTE'], ['Capital One', 'IQVIA', 'PUTNAM RECRUITING GROUP', 'Raytheon Technologies Corporate Headquarters', 'The Hershey Company', 'Appriss Retail', 'Ntropy Network', 'Augray', 'Capgemini', 'Freenome Holdings', 'Juristat', \"US Office of Workers' Compensation Programs\", 'Propel Together', 'Propel', 'WALGREENS'], ['Remote in Richmond, VA', 'Remote', 'Remote', 'Remote in Katy, TX 77449', 'Remote in Hershey, PA', 'Remote', 'Remote in New York, NY', 'Remote in Brookfield, WI', 'Remote', 'Remote in South San Francisco, CA 94080', 'Remote', 'Remote in Wallops Island, VA', 'Remote', 'Remote in Brooklyn, NY 11234', 'Remote in Deerfield, IL 60015'], ['3.9', '3.8', '3.7', '4.3', '3.8', '2.9', '3.5'], ['Data Analyst I', 'Associate Data Scientist', 'Data Scientist', 'NOT HIRING Quantitative', 'Data Scientist', 'Associate Data Scientist', 'Data Scientist', 'Data Scientist', 'Enterprise Data Management', 'Staff Data Scientist', 'Data Scientist', 'Research and Collections Analyst', 'Data Analyst 2 - Remote', 'Senior-Software Engineer- Data Science', 'Data Scientist (Remote)'], ['Cambium Learning Group', 'The Hanover Insurance Group', 'Amgen', 'Dissertation Editor', 'Booz Allen Hamilton', 'VirginPulse', 'Burlington Stores', 'The Jed Foundation', 'INTEL', 'Kohler', 'Connvertex Technologies Inc.', 'Seerist, Inc', 'UnitedHealth Group', 'AT&T', 'Improvix Technologies'], ['Remote', 'Remote', 'Remote in Thousand Oaks, CA 91360', 'Remote', 'Remote in Arlington, VA', 'Remote', 'Remote in Edgewater Park, NJ 08010', 'Remote in New York, NY 10001', 'Remote', 'Remote in Somerville, MA', 'Remote', 'Remote in Washington, DC', 'Remote in Plymouth, MN 55442', 'Remote in Dallas, TX', 'Remote in Reston, VA 20190'], ['3.1', '3.7', '4.0', '3.9', '3.3', '3.2', '4.7', '4.1', '3.5', '3.6', '3.7'], ['Data Analyst', 'Sr Data Scientist', 'Senior Data Science Analyst', 'Data Analyst', 'SR DATA ANALYST', 'Economic Data Scientist', 'Programs Data Science Consultant (Remote)', 'Marketing Data Scientist', 'Director of Data Science', 'Data Engineer', 'Data Science Engineer', 'Data Scientist', 'Data Science Engineer', 'Data Scientist (REMOTE)', 'Business Analyst'], ['Greystar Real Estate Partners LLC', 'f5', 'Discover Financial Services', 'Stellantis', 'Lumen', 'Lynker Corporation', 'BigHat Biosciences', 'MyPlanAdvocate', 'SentiLink', 'Notarize', 'Triangulate Labs', 'Stellantis', 'Strategic Healthcare Programs', \"DICK'S Sporting Goods\", 'Kaplan'], ['Remote', 'Remote in Charlotte, NC', 'Remote', 'Remote', 'Remote', 'Remote', 'Remote in San Mateo, CA', 'Remote in Salt Lake City, UT 84101', 'Remote', 'Remote', 'Remote in Cincinnati, OH', 'Remote', 'Remote in Remote, CA 93117', 'Remote in Coraopolis, PA 15108', 'Remote'], ['3.5', '3.8', '3.2', '3.5', '2.6', '3.4', '3.2', '3.7', '3.4', '3.7']]\n"
     ]
    }
   ],
   "source": [
    "#While loop to parse through first 5 pages\n",
    "\n",
    "number = 1\n",
    "    \n",
    "while number <= 5:\n",
    "    indeed_information()\n",
    "        \n",
    "    number  += 1\n",
    "\n",
    "print(all_titles)"
   ]
  },
  {
   "cell_type": "code",
   "execution_count": 49,
   "id": "3751d4ec",
   "metadata": {},
   "outputs": [
    {
     "data": {
      "text/plain": [
       "True"
      ]
     },
     "execution_count": 49,
     "metadata": {},
     "output_type": "execute_result"
    }
   ],
   "source": [
    "# Saves a .png file with name my_screenshot_name to the directory that you are running the program from.\n",
    "screenshot_name = \"my_screenshot_name.png\"\n",
    "driver.save_screenshot(screenshot_name)"
   ]
  },
  {
   "cell_type": "code",
   "execution_count": 50,
   "id": "db324a7b",
   "metadata": {},
   "outputs": [],
   "source": [
    "import pandas as pd"
   ]
  },
  {
   "cell_type": "code",
   "execution_count": 51,
   "id": "74745259-e2ec-4869-9cfd-59075ce3e1fe",
   "metadata": {},
   "outputs": [],
   "source": [
    "# creating a list each for titles, company name and location.\n",
    "          \n",
    "titles = [all_titles[0],all_titles[4],all_titles[8],all_titles[12],all_titles[16]]\n",
    "\n",
    "# Loop through list created to remove nested lists\n",
    "new_title = []\n",
    "for r in titles:\n",
    "        for j in r:\n",
    "            new_title.append(j)"
   ]
  },
  {
   "cell_type": "code",
   "execution_count": 52,
   "id": "284d7818-0ee6-4778-9697-d2f2f083986d",
   "metadata": {},
   "outputs": [],
   "source": [
    "location = [all_titles[2],all_titles[6],all_titles[10],all_titles[14],all_titles[18]]\n",
    "\n",
    "new_location=[]\n",
    "for r in location:\n",
    "        for j in r:\n",
    "            new_location.append(j)"
   ]
  },
  {
   "cell_type": "code",
   "execution_count": 53,
   "id": "e5dc22cd-5b39-4a2a-aa58-b19a63c519b2",
   "metadata": {},
   "outputs": [],
   "source": [
    "company = [all_titles[1],all_titles[5],all_titles[9],all_titles[13],all_titles[17]]\n",
    "\n",
    "new_company = []\n",
    "for r in company:\n",
    "        for j in r:\n",
    "             new_company.append(j)\n",
    "                "
   ]
  },
  {
   "cell_type": "code",
   "execution_count": 54,
   "id": "96b2321d-23bf-4b0b-bbce-ed3f7ff642f8",
   "metadata": {},
   "outputs": [],
   "source": [
    "reviews = [all_titles[3],all_titles[7],all_titles[11],all_titles[15],all_titles[19]]\n",
    "\n",
    "new_review = []\n",
    "for r in reviews:\n",
    "        for j in r:\n",
    "            new_review.append(j)\n",
    "            "
   ]
  },
  {
   "cell_type": "code",
   "execution_count": 55,
   "id": "7ec0c922-02ca-4ddc-b65e-9f45092142fe",
   "metadata": {},
   "outputs": [
    {
     "name": "stdout",
     "output_type": "stream",
     "text": [
      "75\n",
      "75\n",
      "75\n",
      "49\n"
     ]
    }
   ],
   "source": [
    "#Printing the length to check if all arrays are equal\n",
    "print(len(new_title))\n",
    "print(len(new_company))\n",
    "print(len(new_location))\n",
    "\n",
    "#Ratings not equal. Not all companies have a rating. \n",
    "print(len(new_review))\n",
    "\n",
    "            \n"
   ]
  },
  {
   "cell_type": "code",
   "execution_count": 56,
   "id": "80efca99-72c0-4565-afbc-4f162b0fd297",
   "metadata": {},
   "outputs": [
    {
     "name": "stdout",
     "output_type": "stream",
     "text": [
      "{'job_title': ['Data Scientist (L4) - Game DSE', 'Data Scientist', 'Data Scientist', 'People Analytics Data Scientist', 'Associate Data Scientist - Online Business Analytics (Remote)', 'Machine Learning Engineer', 'Data Analyst - Implementation', 'Data Analyst (Entry Level)', 'Data Science', 'Data Scientist I (REMOTE)', 'Data Scientist', 'Staff Data Scientist', 'Data Engineer 2', 'Data Scientist', 'Data Analyst', 'SQL Data Analyst (Customer Success)', '(5) Data Analyst / Data Scientist', 'Director', 'Data Science Engineer', 'Data Scientist', 'Data Scientist', 'Senior Data Scientist (JR14391)', 'Front End Data Science Developer', 'Data Scientist', 'Data Science Associate (Remote)', 'Data Visualization Specialist', 'HR Data Analyst - Remote', 'Data Engineer', 'Data Scientist Assistant- Health', 'Data Scientist', 'Senior Associate', 'Business Process Analyst 1', 'Data Scientist', 'Automations Data Analyst (REMOTE)', 'Data Scientist', 'Senior Data Analyst', 'Data Scientist', 'Junior Data Scientist', 'Data Analyst', 'Associate Data Scientist (Remote)', 'Data Specialist', 'Data Scientist', 'Data Analyst', 'Data Science Manager', 'Manager Data Science - REMOTE', 'Data Analyst I', 'Associate Data Scientist', 'Data Scientist', 'NOT HIRING Quantitative', 'Data Scientist', 'Associate Data Scientist', 'Data Scientist', 'Data Scientist', 'Enterprise Data Management', 'Staff Data Scientist', 'Data Scientist', 'Research and Collections Analyst', 'Data Analyst 2 - Remote', 'Senior-Software Engineer- Data Science', 'Data Scientist (Remote)', 'Data Analyst', 'Sr Data Scientist', 'Senior Data Science Analyst', 'Data Analyst', 'SR DATA ANALYST', 'Economic Data Scientist', 'Programs Data Science Consultant (Remote)', 'Marketing Data Scientist', 'Director of Data Science', 'Data Engineer', 'Data Science Engineer', 'Data Scientist', 'Data Science Engineer', 'Data Scientist (REMOTE)', 'Business Analyst'], 'company_name': ['Netflix', 'Pinterest', 'Ancestry', 'General Motors', 'Home Depot / THD', 'Appriss Retail', 'Eon', 'Aural Analytics, Inc.', 'Messenger', 'Pekin Insurance', 'US Office of Federal Contract Compliance Programs', 'Devoted Health', 'Humana', 'Cambium Learning Group', 'Booz Allen Hamilton', 'Eventbrite', \"TRA'BIAN ENTERPRISES\", 'Rhino New York', 'ServiceNow', 'Assetario', 'Netcore Cloud', 'Teladoc Health', 'Meta', 'Clubhouse', 'pulseData', 'Capgemini', 'Sheetz', 'Meta', 'American Institutes for Research', 'Procal Technologies', 'Capital One', 'IQVIA', 'PUTNAM RECRUITING GROUP', 'Raytheon Technologies Corporate Headquarters', 'The Hershey Company', 'Appriss Retail', 'Ntropy Network', 'Augray', 'Capgemini', 'Freenome Holdings', 'Juristat', \"US Office of Workers' Compensation Programs\", 'Propel Together', 'Propel', 'WALGREENS', 'Cambium Learning Group', 'The Hanover Insurance Group', 'Amgen', 'Dissertation Editor', 'Booz Allen Hamilton', 'VirginPulse', 'Burlington Stores', 'The Jed Foundation', 'INTEL', 'Kohler', 'Connvertex Technologies Inc.', 'Seerist, Inc', 'UnitedHealth Group', 'AT&T', 'Improvix Technologies', 'Greystar Real Estate Partners LLC', 'f5', 'Discover Financial Services', 'Stellantis', 'Lumen', 'Lynker Corporation', 'BigHat Biosciences', 'MyPlanAdvocate', 'SentiLink', 'Notarize', 'Triangulate Labs', 'Stellantis', 'Strategic Healthcare Programs', \"DICK'S Sporting Goods\", 'Kaplan'], 'work_location': ['Remote', 'Remote', 'Remote', 'Remote', 'Remote in Atlanta, GA 30301', 'Remote', 'Remote', 'Remote', 'Remote', 'Remote', 'Remote in Wallops Island, VA', 'Remote', 'Remote in Louisville, KY 40202', 'Remote', 'Remote in Washington, DC', 'Remote', 'Remote', 'Remote', 'Remote in Austin, TX', 'Remote', 'Remote', 'Remote', 'Remote', 'Remote', 'Remote in New York, NY', 'Remote', 'Remote in Claysburg, PA 16625', 'Remote', 'Remote', 'Remote', 'Remote in Richmond, VA', 'Remote', 'Remote', 'Remote in Katy, TX 77449', 'Remote in Hershey, PA', 'Remote', 'Remote in New York, NY', 'Remote in Brookfield, WI', 'Remote', 'Remote in South San Francisco, CA 94080', 'Remote', 'Remote in Wallops Island, VA', 'Remote', 'Remote in Brooklyn, NY 11234', 'Remote in Deerfield, IL 60015', 'Remote', 'Remote', 'Remote in Thousand Oaks, CA 91360', 'Remote', 'Remote in Arlington, VA', 'Remote', 'Remote in Edgewater Park, NJ 08010', 'Remote in New York, NY 10001', 'Remote', 'Remote in Somerville, MA', 'Remote', 'Remote in Washington, DC', 'Remote in Plymouth, MN 55442', 'Remote in Dallas, TX', 'Remote in Reston, VA 20190', 'Remote', 'Remote in Charlotte, NC', 'Remote', 'Remote', 'Remote', 'Remote', 'Remote in San Mateo, CA', 'Remote in Salt Lake City, UT 84101', 'Remote', 'Remote', 'Remote in Cincinnati, OH', 'Remote', 'Remote in Remote, CA 93117', 'Remote in Coraopolis, PA 15108', 'Remote']}\n"
     ]
    }
   ],
   "source": [
    "# The dataframe\n",
    "\n",
    "#Ratings not included \n",
    "data_dict = {'job_title': new_title, 'company_name': new_company, 'work_location': new_location}\n",
    "\n",
    "print(data_dict)\n"
   ]
  },
  {
   "cell_type": "code",
   "execution_count": 57,
   "id": "aed7f648",
   "metadata": {},
   "outputs": [
    {
     "data": {
      "text/html": [
       "<div>\n",
       "<style scoped>\n",
       "    .dataframe tbody tr th:only-of-type {\n",
       "        vertical-align: middle;\n",
       "    }\n",
       "\n",
       "    .dataframe tbody tr th {\n",
       "        vertical-align: top;\n",
       "    }\n",
       "\n",
       "    .dataframe thead th {\n",
       "        text-align: right;\n",
       "    }\n",
       "</style>\n",
       "<table border=\"1\" class=\"dataframe\">\n",
       "  <thead>\n",
       "    <tr style=\"text-align: right;\">\n",
       "      <th></th>\n",
       "      <th>job_title</th>\n",
       "      <th>company_name</th>\n",
       "      <th>work_location</th>\n",
       "    </tr>\n",
       "  </thead>\n",
       "  <tbody>\n",
       "    <tr>\n",
       "      <th>0</th>\n",
       "      <td>Data Scientist (L4) - Game DSE</td>\n",
       "      <td>Netflix</td>\n",
       "      <td>Remote</td>\n",
       "    </tr>\n",
       "    <tr>\n",
       "      <th>1</th>\n",
       "      <td>Data Scientist</td>\n",
       "      <td>Pinterest</td>\n",
       "      <td>Remote</td>\n",
       "    </tr>\n",
       "    <tr>\n",
       "      <th>2</th>\n",
       "      <td>Data Scientist</td>\n",
       "      <td>Ancestry</td>\n",
       "      <td>Remote</td>\n",
       "    </tr>\n",
       "    <tr>\n",
       "      <th>3</th>\n",
       "      <td>People Analytics Data Scientist</td>\n",
       "      <td>General Motors</td>\n",
       "      <td>Remote</td>\n",
       "    </tr>\n",
       "    <tr>\n",
       "      <th>4</th>\n",
       "      <td>Associate Data Scientist - Online Business Ana...</td>\n",
       "      <td>Home Depot / THD</td>\n",
       "      <td>Remote in Atlanta, GA 30301</td>\n",
       "    </tr>\n",
       "  </tbody>\n",
       "</table>\n",
       "</div>"
      ],
      "text/plain": [
       "                                           job_title      company_name  \\\n",
       "0                     Data Scientist (L4) - Game DSE           Netflix   \n",
       "1                                     Data Scientist         Pinterest   \n",
       "2                                     Data Scientist          Ancestry   \n",
       "3                    People Analytics Data Scientist    General Motors   \n",
       "4  Associate Data Scientist - Online Business Ana...  Home Depot / THD   \n",
       "\n",
       "                 work_location  \n",
       "0                       Remote  \n",
       "1                       Remote  \n",
       "2                       Remote  \n",
       "3                       Remote  \n",
       "4  Remote in Atlanta, GA 30301  "
      ]
     },
     "execution_count": 57,
     "metadata": {},
     "output_type": "execute_result"
    }
   ],
   "source": [
    "indeed_data = pd.DataFrame(data_dict)\n",
    "\n",
    "indeed_data.head()"
   ]
  },
  {
   "cell_type": "code",
   "execution_count": 60,
   "id": "3c45eb59",
   "metadata": {},
   "outputs": [],
   "source": [
    "#Saving the dataframe\n",
    "\n",
    "indeed_data.to_csv(\"indeed_jobs_data.csv\")"
   ]
  }
 ],
 "metadata": {
  "kernelspec": {
   "display_name": "Python 3 (ipykernel)",
   "language": "python",
   "name": "python3"
  },
  "language_info": {
   "codemirror_mode": {
    "name": "ipython",
    "version": 3
   },
   "file_extension": ".py",
   "mimetype": "text/x-python",
   "name": "python",
   "nbconvert_exporter": "python",
   "pygments_lexer": "ipython3",
   "version": "3.9.13"
  }
 },
 "nbformat": 4,
 "nbformat_minor": 5
}
