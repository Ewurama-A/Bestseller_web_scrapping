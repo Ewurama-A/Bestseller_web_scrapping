{
 "cells": [
  {
   "cell_type": "markdown",
   "id": "35ceddea-2684-4ad3-9617-52c5462f97de",
   "metadata": {},
   "source": [
    "### Using request-html and Pandas to create a dataframe\n"
   ]
  },
  {
   "cell_type": "markdown",
   "id": "411b50d8",
   "metadata": {},
   "source": [
    "#### The following shows one way request-html can be used to parse through a webpage and obtain the needed data:\n",
    "\n",
    "The site being parsed is jumia.com, an e-commerce site commonly used in West Africa. The product names, the prices, the ratings and other valuable information would be obtained using a combination of **css selectors** and **Xpath**.\n",
    "\n",
    "Afterwards, the data will be put in a **Pandas** dataframe and processed. This dataframe will  be saved as a ***.csv*** file for further evaluation in the future."
   ]
  },
  {
   "cell_type": "code",
   "execution_count": 102,
   "id": "b37b31dd",
   "metadata": {
    "scrolled": true
   },
   "outputs": [
    {
     "name": "stdout",
     "output_type": "stream",
     "text": [
      "Requirement already satisfied: requests-html in c:\\users\\user\\anaconda3\\lib\\site-packages (0.10.0)\n",
      "Requirement already satisfied: requests in c:\\users\\user\\anaconda3\\lib\\site-packages (from requests-html) (2.28.1)\n",
      "Requirement already satisfied: bs4 in c:\\users\\user\\anaconda3\\lib\\site-packages (from requests-html) (0.0.1)\n",
      "Requirement already satisfied: pyppeteer>=0.0.14 in c:\\users\\user\\anaconda3\\lib\\site-packages (from requests-html) (1.0.2)\n",
      "Requirement already satisfied: parse in c:\\users\\user\\anaconda3\\lib\\site-packages (from requests-html) (1.19.0)\n",
      "Requirement already satisfied: fake-useragent in c:\\users\\user\\anaconda3\\lib\\site-packages (from requests-html) (1.1.1)\n",
      "Requirement already satisfied: w3lib in c:\\users\\user\\anaconda3\\lib\\site-packages (from requests-html) (1.21.0)\n",
      "Requirement already satisfied: pyquery in c:\\users\\user\\anaconda3\\lib\\site-packages (from requests-html) (2.0.0)\n",
      "Requirement already satisfied: certifi>=2021 in c:\\users\\user\\anaconda3\\lib\\site-packages (from pyppeteer>=0.0.14->requests-html) (2022.9.14)\n",
      "Requirement already satisfied: appdirs<2.0.0,>=1.4.3 in c:\\users\\user\\anaconda3\\lib\\site-packages (from pyppeteer>=0.0.14->requests-html) (1.4.4)\n",
      "Requirement already satisfied: importlib-metadata>=1.4 in c:\\users\\user\\anaconda3\\lib\\site-packages (from pyppeteer>=0.0.14->requests-html) (4.11.3)\n",
      "Requirement already satisfied: tqdm<5.0.0,>=4.42.1 in c:\\users\\user\\anaconda3\\lib\\site-packages (from pyppeteer>=0.0.14->requests-html) (4.64.1)\n",
      "Requirement already satisfied: websockets<11.0,>=10.0 in c:\\users\\user\\anaconda3\\lib\\site-packages (from pyppeteer>=0.0.14->requests-html) (10.4)\n",
      "Requirement already satisfied: pyee<9.0.0,>=8.1.0 in c:\\users\\user\\anaconda3\\lib\\site-packages (from pyppeteer>=0.0.14->requests-html) (8.2.2)\n",
      "Requirement already satisfied: urllib3<2.0.0,>=1.25.8 in c:\\users\\user\\anaconda3\\lib\\site-packages (from pyppeteer>=0.0.14->requests-html) (1.26.11)\n",
      "Requirement already satisfied: beautifulsoup4 in c:\\users\\user\\anaconda3\\lib\\site-packages (from bs4->requests-html) (4.11.1)\n",
      "Requirement already satisfied: importlib-resources>=5.0 in c:\\users\\user\\anaconda3\\lib\\site-packages (from fake-useragent->requests-html) (5.12.0)\n",
      "Requirement already satisfied: cssselect>=1.2.0 in c:\\users\\user\\anaconda3\\lib\\site-packages (from pyquery->requests-html) (1.2.0)\n",
      "Requirement already satisfied: lxml>=2.1 in c:\\users\\user\\anaconda3\\lib\\site-packages (from pyquery->requests-html) (4.9.1)\n",
      "Requirement already satisfied: idna<4,>=2.5 in c:\\users\\user\\anaconda3\\lib\\site-packages (from requests->requests-html) (3.3)\n",
      "Requirement already satisfied: charset-normalizer<3,>=2 in c:\\users\\user\\anaconda3\\lib\\site-packages (from requests->requests-html) (2.0.4)\n",
      "Requirement already satisfied: six>=1.4.1 in c:\\users\\user\\anaconda3\\lib\\site-packages (from w3lib->requests-html) (1.16.0)\n",
      "Requirement already satisfied: zipp>=0.5 in c:\\users\\user\\anaconda3\\lib\\site-packages (from importlib-metadata>=1.4->pyppeteer>=0.0.14->requests-html) (3.8.0)\n",
      "Requirement already satisfied: colorama in c:\\users\\user\\anaconda3\\lib\\site-packages (from tqdm<5.0.0,>=4.42.1->pyppeteer>=0.0.14->requests-html) (0.4.5)\n",
      "Requirement already satisfied: soupsieve>1.2 in c:\\users\\user\\anaconda3\\lib\\site-packages (from beautifulsoup4->bs4->requests-html) (2.3.1)\n"
     ]
    }
   ],
   "source": [
    "# Downlaoding all necessary packages.\n",
    "\n",
    "!pip install requests-html\n"
   ]
  },
  {
   "cell_type": "markdown",
   "id": "e31e1996",
   "metadata": {},
   "source": [
    "##### The Jumia website\n",
    "\n",
    "As explained, the Jumia site is an e-commerce site featuring a wide range of products. Anything from electronics to food can be bought from here through delivery. This project will focus on the electronics section of the site.\n",
    "\n",
    "There are many electronics stores on the site such as Itel, Samsung and Telefonika. Telefonika was the given choice because of the diversity of their phone and tablet products. Some factors were considered to narrow down our preferences. These were:\n",
    "\n",
    "- the products were chosen based on popularity (most popular to least popular). The metric for popularity was for products having a ***seller score of 40% or more***\n",
    "\n",
    "- Prices were reduced, hence there would be two price lists; one to reflect the original and the other will be the current price.\n",
    "\n",
    "- Not all products contain ratings, thus any product with 0 would indicate that there no ratings available.\n",
    "\n",
    "- The main products featured were from Inifinx, Nokia, Samsung and Tecno.\n",
    "\n",
    "\n",
    "The data obtained from this site would include:\n",
    "\n",
    "1. The device name\n",
    "\n",
    "2. The original price\n",
    "\n",
    "3. The new price\n",
    "\n",
    "4. The brand name\n",
    "\n",
    "5. Rating if available\n",
    "\n",
    "\n",
    "\n",
    "\n"
   ]
  },
  {
   "cell_type": "code",
   "execution_count": 1,
   "id": "5d831f02",
   "metadata": {},
   "outputs": [],
   "source": [
    "#importing AsyncHTMLSession from requests-html \n",
    "\n",
    "from requests_html import AsyncHTMLSession\n",
    "\n",
    "headers = {\"User-Agent\":\"Mozilla/5.0 (Windows NT 10.0; Win64; x64; rv:66.0) Gecko/20100101 Firefox/66.0\", \"Accept-Encoding\":\"gzip, deflate\", \"Accept\":\"text/html,application/xhtml+xml,application/xml;q=0.9,*/*;q=0.8\", \"DNT\":\"1\",\"Connection\":\"close\", \"Upgrade-Insecure-Requests\":\"1\"}\n",
    "\n",
    "asession = AsyncHTMLSession()\n",
    "\n",
    "\n",
    "url = \"https://www.jumia.com.gh/mlp-telefonika-store/mobile-phones/infinix--nokia--samsung--tecno/?price=169-25999&seller_score=2-5&page=1\""
   ]
  },
  {
   "cell_type": "code",
   "execution_count": 2,
   "id": "f50aeebf-883c-4ec7-b0c7-a6511d6c674e",
   "metadata": {},
   "outputs": [],
   "source": [
    "# getting the url.\n",
    "\n",
    "s = await asession.get(url)"
   ]
  },
  {
   "cell_type": "code",
   "execution_count": 7,
   "id": "5ddf2144-b600-4f7d-8211-5eaf79853650",
   "metadata": {},
   "outputs": [
    {
     "data": {
      "text/plain": [
       "403"
      ]
     },
     "execution_count": 7,
     "metadata": {},
     "output_type": "execute_result"
    }
   ],
   "source": [
    "s.status_code"
   ]
  },
  {
   "cell_type": "code",
   "execution_count": 26,
   "id": "8d5b30c8",
   "metadata": {},
   "outputs": [],
   "source": [
    "# getting the device name \n",
    "\n",
    "device_name = s.html.find('article > div.info > h3.name')\n"
   ]
  },
  {
   "cell_type": "code",
   "execution_count": 106,
   "id": "64674000",
   "metadata": {},
   "outputs": [
    {
     "name": "stdout",
     "output_type": "stream",
     "text": [
      "[]\n"
     ]
    }
   ],
   "source": [
    "#attempting httpx\n",
    "\n",
    "import httpx\n",
    "\n",
    "def get_html(url): \n",
    "    html2 = httpx.get(url).text \n",
    "    return html2\n",
    "\n",
    "html2 = get_html(url)\n",
    "\n",
    "r2 = Selector(str(html2))\n",
    "\n",
    "device_name = r2.xpath('//div/h3[contains(@class, \"name\")]/text()').getall()\n",
    "\n",
    "print(device_name)"
   ]
  },
  {
   "cell_type": "code",
   "execution_count": 8,
   "id": "ada6fa2b",
   "metadata": {},
   "outputs": [
    {
     "name": "stdout",
     "output_type": "stream",
     "text": [
      "403\n"
     ]
    }
   ],
   "source": [
    "#attempting to use requests\n",
    "\n",
    "import requests as rq\n",
    "\n",
    "response = rq.get(url, headers=headers)\n",
    "\n",
    "from parsel import Selector\n",
    "\n",
    "html = response.content\n",
    "\n",
    "print(response.status_code)\n",
    "\n"
   ]
  },
  {
   "cell_type": "markdown",
   "id": "782d4424",
   "metadata": {},
   "source": [
    "#### Conclusion\n",
    "\n",
    "Request-html was used to attempt to get the data required. This lead to some problems. An empty was returned each time the device_name was run.\n",
    "\n",
    "Since there are other parsers such as requests and httpx available, they were tried to see if the problem will persist. \n",
    "\n",
    "After trying each parse out, the status code of the url was checked using request's status code checker.\n",
    "\n",
    "> response = rq.get(url, headers=headers)\n",
    "\n",
    "> print(response.status_code)\n",
    "\n",
    ">> 403\n",
    "\n",
    "The number 403 was produced, implying that as webscrapers we do not have access to this site for our use. "
   ]
  }
 ],
 "metadata": {
  "kernelspec": {
   "display_name": "Python 3 (ipykernel)",
   "language": "python",
   "name": "python3"
  },
  "language_info": {
   "codemirror_mode": {
    "name": "ipython",
    "version": 3
   },
   "file_extension": ".py",
   "mimetype": "text/x-python",
   "name": "python",
   "nbconvert_exporter": "python",
   "pygments_lexer": "ipython3",
   "version": "3.9.13"
  }
 },
 "nbformat": 4,
 "nbformat_minor": 5
}
